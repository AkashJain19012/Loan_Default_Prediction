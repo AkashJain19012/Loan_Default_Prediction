{
  "nbformat": 4,
  "nbformat_minor": 5,
  "metadata": {
    "colab": {
      "provenance": []
    },
    "kernelspec": {
      "display_name": "Python 3",
      "language": "python",
      "name": "python3"
    },
    "language_info": {
      "codemirror_mode": {
        "name": "ipython",
        "version": 3
      },
      "file_extension": ".py",
      "mimetype": "text/x-python",
      "name": "python",
      "nbconvert_exporter": "python",
      "pygments_lexer": "ipython3",
      "version": "3.8.8"
    }
  },
  "cells": [
    {
      "cell_type": "markdown",
      "metadata": {
        "id": "xCDV2if0Pg8F"
      },
      "source": [
        "## Enviroment Setup"
      ],
      "id": "xCDV2if0Pg8F"
    },
    {
      "cell_type": "code",
      "metadata": {
        "id": "4acf3b42"
      },
      "source": [
        "import pandas as pd\n",
        "import numpy as np\n",
        "import matplotlib.pyplot as plt\n",
        "import seaborn as sns"
      ],
      "id": "4acf3b42",
      "execution_count": null,
      "outputs": []
    },
    {
      "cell_type": "code",
      "metadata": {
        "colab": {
          "base_uri": "https://localhost:8080/"
        },
        "id": "uEMwoPFE07U-",
        "outputId": "e51d4489-68a2-410e-d2d2-8c45c721cacd"
      },
      "source": [
        "from google.colab import drive\n",
        "drive.mount('/content/drive')\n",
        "%cd /content/drive/MyDrive/"
      ],
      "id": "uEMwoPFE07U-",
      "execution_count": null,
      "outputs": [
        {
          "output_type": "stream",
          "name": "stdout",
          "text": [
            "Mounted at /content/drive\n",
            "/content/drive/MyDrive\n"
          ]
        }
      ]
    },
    {
      "cell_type": "code",
      "metadata": {
        "id": "6de4f94a",
        "colab": {
          "base_uri": "https://localhost:8080/"
        },
        "outputId": "588682bd-4111-4aba-f2ea-53c44c6c652c"
      },
      "source": [
        "data = pd.read_csv(\"accepted_2007_to_2018Q4.csv\")"
      ],
      "id": "6de4f94a",
      "execution_count": null,
      "outputs": [
        {
          "output_type": "stream",
          "name": "stderr",
          "text": [
            "/usr/local/lib/python3.7/dist-packages/IPython/core/interactiveshell.py:2882: DtypeWarning: Columns (0,19,49,59,118,129,130,131,134,135,136,139,145,146,147) have mixed types.Specify dtype option on import or set low_memory=False.\n",
            "  exec(code_obj, self.user_global_ns, self.user_ns)\n"
          ]
        }
      ]
    },
    {
      "cell_type": "code",
      "metadata": {
        "id": "6e5f9d8c"
      },
      "source": [
        "import copy\n",
        "loans = copy.deepcopy(data)"
      ],
      "id": "6e5f9d8c",
      "execution_count": null,
      "outputs": []
    },
    {
      "cell_type": "markdown",
      "metadata": {
        "id": "7YpopPSNPt7R"
      },
      "source": [
        "## EDA (Exploratory data analysis)"
      ],
      "id": "7YpopPSNPt7R"
    },
    {
      "cell_type": "code",
      "metadata": {
        "id": "_cJ2XOOGQMKY",
        "colab": {
          "base_uri": "https://localhost:8080/"
        },
        "outputId": "cf67c39a-c4a3-498a-9c6e-492702ccce21"
      },
      "source": [
        "loans.columns"
      ],
      "id": "_cJ2XOOGQMKY",
      "execution_count": null,
      "outputs": [
        {
          "output_type": "execute_result",
          "data": {
            "text/plain": [
              "Index(['id', 'member_id', 'loan_amnt', 'funded_amnt', 'funded_amnt_inv',\n",
              "       'term', 'int_rate', 'installment', 'grade', 'sub_grade',\n",
              "       ...\n",
              "       'hardship_payoff_balance_amount', 'hardship_last_payment_amount',\n",
              "       'disbursement_method', 'debt_settlement_flag',\n",
              "       'debt_settlement_flag_date', 'settlement_status', 'settlement_date',\n",
              "       'settlement_amount', 'settlement_percentage', 'settlement_term'],\n",
              "      dtype='object', length=151)"
            ]
          },
          "metadata": {},
          "execution_count": 5
        }
      ]
    },
    {
      "cell_type": "code",
      "metadata": {
        "id": "NimTa4bdQJVd",
        "colab": {
          "base_uri": "https://localhost:8080/",
          "height": 394
        },
        "outputId": "319accff-d961-402a-c9c8-142e43dce86e"
      },
      "source": [
        "loans.describe()"
      ],
      "id": "NimTa4bdQJVd",
      "execution_count": null,
      "outputs": [
        {
          "output_type": "execute_result",
          "data": {
            "text/plain": [
              "       member_id     loan_amnt   funded_amnt  funded_amnt_inv      int_rate  \\\n",
              "count        0.0  2.260668e+06  2.260668e+06     2.260668e+06  2.260668e+06   \n",
              "mean         NaN  1.504693e+04  1.504166e+04     1.502344e+04  1.309283e+01   \n",
              "std          NaN  9.190245e+03  9.188413e+03     9.192332e+03  4.832138e+00   \n",
              "min          NaN  5.000000e+02  5.000000e+02     0.000000e+00  5.310000e+00   \n",
              "25%          NaN  8.000000e+03  8.000000e+03     8.000000e+03  9.490000e+00   \n",
              "50%          NaN  1.290000e+04  1.287500e+04     1.280000e+04  1.262000e+01   \n",
              "75%          NaN  2.000000e+04  2.000000e+04     2.000000e+04  1.599000e+01   \n",
              "max          NaN  4.000000e+04  4.000000e+04     4.000000e+04  3.099000e+01   \n",
              "\n",
              "        installment    annual_inc           dti   delinq_2yrs  fico_range_low  \\\n",
              "count  2.260668e+06  2.260664e+06  2.258957e+06  2.260639e+06    2.260668e+06   \n",
              "mean   4.458068e+02  7.799243e+04  1.882420e+01  3.068792e-01    6.985882e+02   \n",
              "std    2.671735e+02  1.126962e+05  1.418333e+01  8.672303e-01    3.301038e+01   \n",
              "min    4.930000e+00  0.000000e+00 -1.000000e+00  0.000000e+00    6.100000e+02   \n",
              "25%    2.516500e+02  4.600000e+04  1.189000e+01  0.000000e+00    6.750000e+02   \n",
              "50%    3.779900e+02  6.500000e+04  1.784000e+01  0.000000e+00    6.900000e+02   \n",
              "75%    5.933200e+02  9.300000e+04  2.449000e+01  0.000000e+00    7.150000e+02   \n",
              "max    1.719830e+03  1.100000e+08  9.990000e+02  5.800000e+01    8.450000e+02   \n",
              "\n",
              "       ...  deferral_term  hardship_amount  hardship_length  hardship_dpd  \\\n",
              "count  ...        10917.0     10917.000000          10917.0  10917.000000   \n",
              "mean   ...            3.0       155.045981              3.0     13.743886   \n",
              "std    ...            0.0       129.040594              0.0      9.671178   \n",
              "min    ...            3.0         0.640000              3.0      0.000000   \n",
              "25%    ...            3.0        59.440000              3.0      5.000000   \n",
              "50%    ...            3.0       119.140000              3.0     15.000000   \n",
              "75%    ...            3.0       213.260000              3.0     22.000000   \n",
              "max    ...            3.0       943.940000              3.0     37.000000   \n",
              "\n",
              "       orig_projected_additional_accrued_interest  \\\n",
              "count                                 8651.000000   \n",
              "mean                                   454.798089   \n",
              "std                                    375.385500   \n",
              "min                                      1.920000   \n",
              "25%                                    175.230000   \n",
              "50%                                    352.770000   \n",
              "75%                                    620.175000   \n",
              "max                                   2680.890000   \n",
              "\n",
              "       hardship_payoff_balance_amount  hardship_last_payment_amount  \\\n",
              "count                    10917.000000                  10917.000000   \n",
              "mean                     11636.883942                    193.994321   \n",
              "std                       7625.988281                    198.629496   \n",
              "min                         55.730000                      0.010000   \n",
              "25%                       5627.000000                     44.440000   \n",
              "50%                      10028.390000                    133.160000   \n",
              "75%                      16151.890000                    284.190000   \n",
              "max                      40306.410000                   1407.860000   \n",
              "\n",
              "       settlement_amount  settlement_percentage  settlement_term  \n",
              "count       34246.000000           34246.000000     34246.000000  \n",
              "mean         5010.664267              47.780365        13.191322  \n",
              "std          3693.122590               7.311822         8.159980  \n",
              "min            44.210000               0.200000         0.000000  \n",
              "25%          2208.000000              45.000000         6.000000  \n",
              "50%          4146.110000              45.000000        14.000000  \n",
              "75%          6850.172500              50.000000        18.000000  \n",
              "max         33601.000000             521.350000       181.000000  \n",
              "\n",
              "[8 rows x 113 columns]"
            ],
            "text/html": [
              "\n",
              "  <div id=\"df-f983b3a1-0e07-4d3a-afc2-4a273785f1ae\">\n",
              "    <div class=\"colab-df-container\">\n",
              "      <div>\n",
              "<style scoped>\n",
              "    .dataframe tbody tr th:only-of-type {\n",
              "        vertical-align: middle;\n",
              "    }\n",
              "\n",
              "    .dataframe tbody tr th {\n",
              "        vertical-align: top;\n",
              "    }\n",
              "\n",
              "    .dataframe thead th {\n",
              "        text-align: right;\n",
              "    }\n",
              "</style>\n",
              "<table border=\"1\" class=\"dataframe\">\n",
              "  <thead>\n",
              "    <tr style=\"text-align: right;\">\n",
              "      <th></th>\n",
              "      <th>member_id</th>\n",
              "      <th>loan_amnt</th>\n",
              "      <th>funded_amnt</th>\n",
              "      <th>funded_amnt_inv</th>\n",
              "      <th>int_rate</th>\n",
              "      <th>installment</th>\n",
              "      <th>annual_inc</th>\n",
              "      <th>dti</th>\n",
              "      <th>delinq_2yrs</th>\n",
              "      <th>fico_range_low</th>\n",
              "      <th>...</th>\n",
              "      <th>deferral_term</th>\n",
              "      <th>hardship_amount</th>\n",
              "      <th>hardship_length</th>\n",
              "      <th>hardship_dpd</th>\n",
              "      <th>orig_projected_additional_accrued_interest</th>\n",
              "      <th>hardship_payoff_balance_amount</th>\n",
              "      <th>hardship_last_payment_amount</th>\n",
              "      <th>settlement_amount</th>\n",
              "      <th>settlement_percentage</th>\n",
              "      <th>settlement_term</th>\n",
              "    </tr>\n",
              "  </thead>\n",
              "  <tbody>\n",
              "    <tr>\n",
              "      <th>count</th>\n",
              "      <td>0.0</td>\n",
              "      <td>2.260668e+06</td>\n",
              "      <td>2.260668e+06</td>\n",
              "      <td>2.260668e+06</td>\n",
              "      <td>2.260668e+06</td>\n",
              "      <td>2.260668e+06</td>\n",
              "      <td>2.260664e+06</td>\n",
              "      <td>2.258957e+06</td>\n",
              "      <td>2.260639e+06</td>\n",
              "      <td>2.260668e+06</td>\n",
              "      <td>...</td>\n",
              "      <td>10917.0</td>\n",
              "      <td>10917.000000</td>\n",
              "      <td>10917.0</td>\n",
              "      <td>10917.000000</td>\n",
              "      <td>8651.000000</td>\n",
              "      <td>10917.000000</td>\n",
              "      <td>10917.000000</td>\n",
              "      <td>34246.000000</td>\n",
              "      <td>34246.000000</td>\n",
              "      <td>34246.000000</td>\n",
              "    </tr>\n",
              "    <tr>\n",
              "      <th>mean</th>\n",
              "      <td>NaN</td>\n",
              "      <td>1.504693e+04</td>\n",
              "      <td>1.504166e+04</td>\n",
              "      <td>1.502344e+04</td>\n",
              "      <td>1.309283e+01</td>\n",
              "      <td>4.458068e+02</td>\n",
              "      <td>7.799243e+04</td>\n",
              "      <td>1.882420e+01</td>\n",
              "      <td>3.068792e-01</td>\n",
              "      <td>6.985882e+02</td>\n",
              "      <td>...</td>\n",
              "      <td>3.0</td>\n",
              "      <td>155.045981</td>\n",
              "      <td>3.0</td>\n",
              "      <td>13.743886</td>\n",
              "      <td>454.798089</td>\n",
              "      <td>11636.883942</td>\n",
              "      <td>193.994321</td>\n",
              "      <td>5010.664267</td>\n",
              "      <td>47.780365</td>\n",
              "      <td>13.191322</td>\n",
              "    </tr>\n",
              "    <tr>\n",
              "      <th>std</th>\n",
              "      <td>NaN</td>\n",
              "      <td>9.190245e+03</td>\n",
              "      <td>9.188413e+03</td>\n",
              "      <td>9.192332e+03</td>\n",
              "      <td>4.832138e+00</td>\n",
              "      <td>2.671735e+02</td>\n",
              "      <td>1.126962e+05</td>\n",
              "      <td>1.418333e+01</td>\n",
              "      <td>8.672303e-01</td>\n",
              "      <td>3.301038e+01</td>\n",
              "      <td>...</td>\n",
              "      <td>0.0</td>\n",
              "      <td>129.040594</td>\n",
              "      <td>0.0</td>\n",
              "      <td>9.671178</td>\n",
              "      <td>375.385500</td>\n",
              "      <td>7625.988281</td>\n",
              "      <td>198.629496</td>\n",
              "      <td>3693.122590</td>\n",
              "      <td>7.311822</td>\n",
              "      <td>8.159980</td>\n",
              "    </tr>\n",
              "    <tr>\n",
              "      <th>min</th>\n",
              "      <td>NaN</td>\n",
              "      <td>5.000000e+02</td>\n",
              "      <td>5.000000e+02</td>\n",
              "      <td>0.000000e+00</td>\n",
              "      <td>5.310000e+00</td>\n",
              "      <td>4.930000e+00</td>\n",
              "      <td>0.000000e+00</td>\n",
              "      <td>-1.000000e+00</td>\n",
              "      <td>0.000000e+00</td>\n",
              "      <td>6.100000e+02</td>\n",
              "      <td>...</td>\n",
              "      <td>3.0</td>\n",
              "      <td>0.640000</td>\n",
              "      <td>3.0</td>\n",
              "      <td>0.000000</td>\n",
              "      <td>1.920000</td>\n",
              "      <td>55.730000</td>\n",
              "      <td>0.010000</td>\n",
              "      <td>44.210000</td>\n",
              "      <td>0.200000</td>\n",
              "      <td>0.000000</td>\n",
              "    </tr>\n",
              "    <tr>\n",
              "      <th>25%</th>\n",
              "      <td>NaN</td>\n",
              "      <td>8.000000e+03</td>\n",
              "      <td>8.000000e+03</td>\n",
              "      <td>8.000000e+03</td>\n",
              "      <td>9.490000e+00</td>\n",
              "      <td>2.516500e+02</td>\n",
              "      <td>4.600000e+04</td>\n",
              "      <td>1.189000e+01</td>\n",
              "      <td>0.000000e+00</td>\n",
              "      <td>6.750000e+02</td>\n",
              "      <td>...</td>\n",
              "      <td>3.0</td>\n",
              "      <td>59.440000</td>\n",
              "      <td>3.0</td>\n",
              "      <td>5.000000</td>\n",
              "      <td>175.230000</td>\n",
              "      <td>5627.000000</td>\n",
              "      <td>44.440000</td>\n",
              "      <td>2208.000000</td>\n",
              "      <td>45.000000</td>\n",
              "      <td>6.000000</td>\n",
              "    </tr>\n",
              "    <tr>\n",
              "      <th>50%</th>\n",
              "      <td>NaN</td>\n",
              "      <td>1.290000e+04</td>\n",
              "      <td>1.287500e+04</td>\n",
              "      <td>1.280000e+04</td>\n",
              "      <td>1.262000e+01</td>\n",
              "      <td>3.779900e+02</td>\n",
              "      <td>6.500000e+04</td>\n",
              "      <td>1.784000e+01</td>\n",
              "      <td>0.000000e+00</td>\n",
              "      <td>6.900000e+02</td>\n",
              "      <td>...</td>\n",
              "      <td>3.0</td>\n",
              "      <td>119.140000</td>\n",
              "      <td>3.0</td>\n",
              "      <td>15.000000</td>\n",
              "      <td>352.770000</td>\n",
              "      <td>10028.390000</td>\n",
              "      <td>133.160000</td>\n",
              "      <td>4146.110000</td>\n",
              "      <td>45.000000</td>\n",
              "      <td>14.000000</td>\n",
              "    </tr>\n",
              "    <tr>\n",
              "      <th>75%</th>\n",
              "      <td>NaN</td>\n",
              "      <td>2.000000e+04</td>\n",
              "      <td>2.000000e+04</td>\n",
              "      <td>2.000000e+04</td>\n",
              "      <td>1.599000e+01</td>\n",
              "      <td>5.933200e+02</td>\n",
              "      <td>9.300000e+04</td>\n",
              "      <td>2.449000e+01</td>\n",
              "      <td>0.000000e+00</td>\n",
              "      <td>7.150000e+02</td>\n",
              "      <td>...</td>\n",
              "      <td>3.0</td>\n",
              "      <td>213.260000</td>\n",
              "      <td>3.0</td>\n",
              "      <td>22.000000</td>\n",
              "      <td>620.175000</td>\n",
              "      <td>16151.890000</td>\n",
              "      <td>284.190000</td>\n",
              "      <td>6850.172500</td>\n",
              "      <td>50.000000</td>\n",
              "      <td>18.000000</td>\n",
              "    </tr>\n",
              "    <tr>\n",
              "      <th>max</th>\n",
              "      <td>NaN</td>\n",
              "      <td>4.000000e+04</td>\n",
              "      <td>4.000000e+04</td>\n",
              "      <td>4.000000e+04</td>\n",
              "      <td>3.099000e+01</td>\n",
              "      <td>1.719830e+03</td>\n",
              "      <td>1.100000e+08</td>\n",
              "      <td>9.990000e+02</td>\n",
              "      <td>5.800000e+01</td>\n",
              "      <td>8.450000e+02</td>\n",
              "      <td>...</td>\n",
              "      <td>3.0</td>\n",
              "      <td>943.940000</td>\n",
              "      <td>3.0</td>\n",
              "      <td>37.000000</td>\n",
              "      <td>2680.890000</td>\n",
              "      <td>40306.410000</td>\n",
              "      <td>1407.860000</td>\n",
              "      <td>33601.000000</td>\n",
              "      <td>521.350000</td>\n",
              "      <td>181.000000</td>\n",
              "    </tr>\n",
              "  </tbody>\n",
              "</table>\n",
              "<p>8 rows × 113 columns</p>\n",
              "</div>\n",
              "      <button class=\"colab-df-convert\" onclick=\"convertToInteractive('df-f983b3a1-0e07-4d3a-afc2-4a273785f1ae')\"\n",
              "              title=\"Convert this dataframe to an interactive table.\"\n",
              "              style=\"display:none;\">\n",
              "        \n",
              "  <svg xmlns=\"http://www.w3.org/2000/svg\" height=\"24px\"viewBox=\"0 0 24 24\"\n",
              "       width=\"24px\">\n",
              "    <path d=\"M0 0h24v24H0V0z\" fill=\"none\"/>\n",
              "    <path d=\"M18.56 5.44l.94 2.06.94-2.06 2.06-.94-2.06-.94-.94-2.06-.94 2.06-2.06.94zm-11 1L8.5 8.5l.94-2.06 2.06-.94-2.06-.94L8.5 2.5l-.94 2.06-2.06.94zm10 10l.94 2.06.94-2.06 2.06-.94-2.06-.94-.94-2.06-.94 2.06-2.06.94z\"/><path d=\"M17.41 7.96l-1.37-1.37c-.4-.4-.92-.59-1.43-.59-.52 0-1.04.2-1.43.59L10.3 9.45l-7.72 7.72c-.78.78-.78 2.05 0 2.83L4 21.41c.39.39.9.59 1.41.59.51 0 1.02-.2 1.41-.59l7.78-7.78 2.81-2.81c.8-.78.8-2.07 0-2.86zM5.41 20L4 18.59l7.72-7.72 1.47 1.35L5.41 20z\"/>\n",
              "  </svg>\n",
              "      </button>\n",
              "      \n",
              "  <style>\n",
              "    .colab-df-container {\n",
              "      display:flex;\n",
              "      flex-wrap:wrap;\n",
              "      gap: 12px;\n",
              "    }\n",
              "\n",
              "    .colab-df-convert {\n",
              "      background-color: #E8F0FE;\n",
              "      border: none;\n",
              "      border-radius: 50%;\n",
              "      cursor: pointer;\n",
              "      display: none;\n",
              "      fill: #1967D2;\n",
              "      height: 32px;\n",
              "      padding: 0 0 0 0;\n",
              "      width: 32px;\n",
              "    }\n",
              "\n",
              "    .colab-df-convert:hover {\n",
              "      background-color: #E2EBFA;\n",
              "      box-shadow: 0px 1px 2px rgba(60, 64, 67, 0.3), 0px 1px 3px 1px rgba(60, 64, 67, 0.15);\n",
              "      fill: #174EA6;\n",
              "    }\n",
              "\n",
              "    [theme=dark] .colab-df-convert {\n",
              "      background-color: #3B4455;\n",
              "      fill: #D2E3FC;\n",
              "    }\n",
              "\n",
              "    [theme=dark] .colab-df-convert:hover {\n",
              "      background-color: #434B5C;\n",
              "      box-shadow: 0px 1px 3px 1px rgba(0, 0, 0, 0.15);\n",
              "      filter: drop-shadow(0px 1px 2px rgba(0, 0, 0, 0.3));\n",
              "      fill: #FFFFFF;\n",
              "    }\n",
              "  </style>\n",
              "\n",
              "      <script>\n",
              "        const buttonEl =\n",
              "          document.querySelector('#df-f983b3a1-0e07-4d3a-afc2-4a273785f1ae button.colab-df-convert');\n",
              "        buttonEl.style.display =\n",
              "          google.colab.kernel.accessAllowed ? 'block' : 'none';\n",
              "\n",
              "        async function convertToInteractive(key) {\n",
              "          const element = document.querySelector('#df-f983b3a1-0e07-4d3a-afc2-4a273785f1ae');\n",
              "          const dataTable =\n",
              "            await google.colab.kernel.invokeFunction('convertToInteractive',\n",
              "                                                     [key], {});\n",
              "          if (!dataTable) return;\n",
              "\n",
              "          const docLinkHtml = 'Like what you see? Visit the ' +\n",
              "            '<a target=\"_blank\" href=https://colab.research.google.com/notebooks/data_table.ipynb>data table notebook</a>'\n",
              "            + ' to learn more about interactive tables.';\n",
              "          element.innerHTML = '';\n",
              "          dataTable['output_type'] = 'display_data';\n",
              "          await google.colab.output.renderOutput(dataTable, element);\n",
              "          const docLink = document.createElement('div');\n",
              "          docLink.innerHTML = docLinkHtml;\n",
              "          element.appendChild(docLink);\n",
              "        }\n",
              "      </script>\n",
              "    </div>\n",
              "  </div>\n",
              "  "
            ]
          },
          "metadata": {},
          "execution_count": 6
        }
      ]
    },
    {
      "cell_type": "code",
      "metadata": {
        "id": "an3noFcCQewu",
        "colab": {
          "base_uri": "https://localhost:8080/"
        },
        "outputId": "62e605dd-e872-4073-c31f-3c2cd8c7bcf7"
      },
      "source": [
        "loans['loan_status'].unique()"
      ],
      "id": "an3noFcCQewu",
      "execution_count": null,
      "outputs": [
        {
          "output_type": "execute_result",
          "data": {
            "text/plain": [
              "array(['Fully Paid', 'Current', 'Charged Off', 'In Grace Period',\n",
              "       'Late (31-120 days)', 'Late (16-30 days)', 'Default', nan,\n",
              "       'Does not meet the credit policy. Status:Fully Paid',\n",
              "       'Does not meet the credit policy. Status:Charged Off'],\n",
              "      dtype=object)"
            ]
          },
          "metadata": {},
          "execution_count": 7
        }
      ]
    },
    {
      "cell_type": "code",
      "metadata": {
        "colab": {
          "base_uri": "https://localhost:8080/",
          "height": 609
        },
        "id": "MEXd7dEa2k7U",
        "outputId": "f934aa3b-06c5-454d-c53c-5445de0b2d28"
      },
      "source": [
        "#@title Calculating proporations of missing data\n",
        "missing_data = loans.isnull().mean().sort_values(ascending=False)*100\n",
        "\n",
        "plt.figure(figsize=(20,10))\n",
        "\n",
        "plt.xlabel('Proportion of data missing (%)')\n",
        "plt.ylabel('Count')\n",
        "missing_data.plot.hist(bins=30, fontsize=12);\n"
      ],
      "id": "MEXd7dEa2k7U",
      "execution_count": null,
      "outputs": [
        {
          "output_type": "display_data",
          "data": {
            "text/plain": [
              "<Figure size 1440x720 with 1 Axes>"
            ],
            "image/png": "[encoded data removed]"
          },
          "metadata": {
            "needs_background": "light"
          }
        }
      ]
    },
    {
      "cell_type": "code",
      "metadata": {
        "id": "D4E0eH3eSiRr",
        "colab": {
          "base_uri": "https://localhost:8080/"
        },
        "outputId": "1beaf064-ec10-43ec-96ce-4c58204f3a91"
      },
      "source": [
        "missing_data"
      ],
      "id": "D4E0eH3eSiRr",
      "execution_count": null,
      "outputs": [
        {
          "output_type": "execute_result",
          "data": {
            "text/plain": [
              "member_id                                     100.000000\n",
              "orig_projected_additional_accrued_interest     99.617331\n",
              "hardship_end_date                              99.517097\n",
              "hardship_start_date                            99.517097\n",
              "hardship_type                                  99.517097\n",
              "                                                 ...    \n",
              "policy_code                                     0.001460\n",
              "revol_bal                                       0.001460\n",
              "fico_range_high                                 0.001460\n",
              "fico_range_low                                  0.001460\n",
              "id                                              0.000000\n",
              "Length: 151, dtype: float64"
            ]
          },
          "metadata": {},
          "execution_count": 9
        }
      ]
    },
    {
      "cell_type": "code",
      "metadata": {
        "id": "w2ySTHr_13MY",
        "colab": {
          "base_uri": "https://localhost:8080/"
        },
        "outputId": "dc951b5e-8a96-45ea-f28e-4ec6abc137cb"
      },
      "source": [
        "columns_to_drop = sorted(list(missing_data[missing_data > 10].index))\n",
        "columns_to_drop"
      ],
      "id": "w2ySTHr_13MY",
      "execution_count": null,
      "outputs": [
        {
          "output_type": "execute_result",
          "data": {
            "text/plain": [
              "['all_util',\n",
              " 'annual_inc_joint',\n",
              " 'debt_settlement_flag_date',\n",
              " 'deferral_term',\n",
              " 'desc',\n",
              " 'dti_joint',\n",
              " 'hardship_amount',\n",
              " 'hardship_dpd',\n",
              " 'hardship_end_date',\n",
              " 'hardship_last_payment_amount',\n",
              " 'hardship_length',\n",
              " 'hardship_loan_status',\n",
              " 'hardship_payoff_balance_amount',\n",
              " 'hardship_reason',\n",
              " 'hardship_start_date',\n",
              " 'hardship_status',\n",
              " 'hardship_type',\n",
              " 'il_util',\n",
              " 'inq_fi',\n",
              " 'inq_last_12m',\n",
              " 'max_bal_bc',\n",
              " 'member_id',\n",
              " 'mths_since_last_delinq',\n",
              " 'mths_since_last_major_derog',\n",
              " 'mths_since_last_record',\n",
              " 'mths_since_rcnt_il',\n",
              " 'mths_since_recent_bc_dlq',\n",
              " 'mths_since_recent_inq',\n",
              " 'mths_since_recent_revol_delinq',\n",
              " 'next_pymnt_d',\n",
              " 'open_acc_6m',\n",
              " 'open_act_il',\n",
              " 'open_il_12m',\n",
              " 'open_il_24m',\n",
              " 'open_rv_12m',\n",
              " 'open_rv_24m',\n",
              " 'orig_projected_additional_accrued_interest',\n",
              " 'payment_plan_start_date',\n",
              " 'revol_bal_joint',\n",
              " 'sec_app_chargeoff_within_12_mths',\n",
              " 'sec_app_collections_12_mths_ex_med',\n",
              " 'sec_app_earliest_cr_line',\n",
              " 'sec_app_fico_range_high',\n",
              " 'sec_app_fico_range_low',\n",
              " 'sec_app_inq_last_6mths',\n",
              " 'sec_app_mort_acc',\n",
              " 'sec_app_mths_since_last_major_derog',\n",
              " 'sec_app_num_rev_accts',\n",
              " 'sec_app_open_acc',\n",
              " 'sec_app_open_act_il',\n",
              " 'sec_app_revol_util',\n",
              " 'settlement_amount',\n",
              " 'settlement_date',\n",
              " 'settlement_percentage',\n",
              " 'settlement_status',\n",
              " 'settlement_term',\n",
              " 'total_bal_il',\n",
              " 'total_cu_tl',\n",
              " 'verification_status_joint']"
            ]
          },
          "metadata": {},
          "execution_count": 10
        }
      ]
    },
    {
      "cell_type": "code",
      "metadata": {
        "id": "sg9kC26_3HUI"
      },
      "source": [
        "#@title Droping the colums with high missing values\n",
        "loans.drop(labels=columns_to_drop, axis=1, inplace=True)"
      ],
      "id": "sg9kC26_3HUI",
      "execution_count": null,
      "outputs": []
    },
    {
      "cell_type": "code",
      "metadata": {
        "colab": {
          "base_uri": "https://localhost:8080/"
        },
        "id": "_tHuDgKcfE-8",
        "outputId": "f08ae378-4d60-4fe9-e7b8-a8e4f19f9ae9"
      },
      "source": [
        "loans.columns.shape"
      ],
      "id": "_tHuDgKcfE-8",
      "execution_count": null,
      "outputs": [
        {
          "output_type": "execute_result",
          "data": {
            "text/plain": [
              "(92,)"
            ]
          },
          "metadata": {},
          "execution_count": 12
        }
      ]
    },
    {
      "cell_type": "code",
      "metadata": {
        "colab": {
          "base_uri": "https://localhost:8080/"
        },
        "id": "bY6_YAkQg8Er",
        "outputId": "7e04066f-de58-4afa-d420-a2b20b86f98b"
      },
      "source": [
        "data['funded_amnt']"
      ],
      "id": "bY6_YAkQg8Er",
      "execution_count": null,
      "outputs": [
        {
          "output_type": "execute_result",
          "data": {
            "text/plain": [
              "0           3600.0\n",
              "1          24700.0\n",
              "2          20000.0\n",
              "3          35000.0\n",
              "4          10400.0\n",
              "            ...   \n",
              "2260696    40000.0\n",
              "2260697    24000.0\n",
              "2260698    14000.0\n",
              "2260699        NaN\n",
              "2260700        NaN\n",
              "Name: funded_amnt, Length: 2260701, dtype: float64"
            ]
          },
          "metadata": {},
          "execution_count": 13
        }
      ]
    },
    {
      "cell_type": "code",
      "metadata": {
        "id": "K1X8nyGp3UjA"
      },
      "source": [
        "#@title Removing information that prospective lenders would not know\n",
        "excluded_features = ['acc_now_delinq',  # won't know at time of the loan\n",
        "                     'acc_open_past_24mths',  # Lending Club metric\n",
        "                     'application_type',  # Not relevant\n",
        "                     'bc_open_to_buy',  # Not relevant\n",
        "                     'chargeoff_within_12_mths',  # Lending Club metric\n",
        "                     'collection_recovery_fee',  # won't know at time of the loan\n",
        "                     'debt_settlement_flag',  # won't know at time of the loan\n",
        "                     'disbursement_method',  # irrelevant\n",
        "                     'earliest_cr_line',  # relevance?\n",
        "                     'fico_range_low',  # Credit score - defeats purpose of the exercise!\n",
        "                     'fico_range_high',  # Credit score - defeats purpose of the exercise!\n",
        "                     'funded_amnt',  # won't know at time of the loan\n",
        "                     'funded_amnt_inv',  # won't know at time of the loan\n",
        "                     'hardship_flag',  # won't know at time of the loan\n",
        "                     'id',  # irrelevant\n",
        "                     'initial_list_status',  # irrelevant\n",
        "                     'last_credit_pull_d',  # won't know at time of loan\n",
        "                     'last_fico_range_high',  # won't know at time of loan\n",
        "                     'last_fico_range_low',  # won't know at time of loan\n",
        "                     'last_pymnt_d',  # irrelevant\n",
        "                     'last_pymnt_amnt',  # irrelevant\n",
        "                     'policy_code',  # irrelevant\n",
        "                     'pymnt_plan',  # won't know at time of loan\n",
        "                     'recoveries',  # won't know at time of loan\n",
        "                     'out_prncp_inv',  # won't know at time of loan\n",
        "                     'out_prncp',  # won't know at time of loan\n",
        "                     'tot_hi_cred_lim',  # definition?\n",
        "                     'title',  # irrelevant\n",
        "                     'total_pymnt',  # won't know at time of loan\n",
        "                     'total_pymnt_inv',  # won't know at time of loan\n",
        "                     'total_rec_int',  # won't know at time of loan\n",
        "                     'total_rec_late_fee',  # won't know at time of loan\n",
        "                     'total_rec_prncp',  # won't know at time of loan\n",
        "                     'total_rev_hi_lim',  # definition?\n",
        "                     'url',  # irrelevant\n",
        "                     'collections_12_mths_ex_med' , # won't know at time of application\n",
        "                     'delinq_2yrs',\n",
        "                    'inq_last_6mths',\n",
        "                    'revol_bal',\n",
        "                    'revol_util',\n",
        "                    'tot_coll_amt',\n",
        "                    'tot_cur_bal',\n",
        "                    'delinq_amnt',\n",
        "                    'mo_sin_old_il_acct',\n",
        "                    'mo_sin_old_rev_tl_op',\n",
        "                    'mo_sin_rcnt_rev_tl_op',\n",
        "                    'num_accts_ever_120_pd',\n",
        "                    'num_tl_120dpd_2m',\n",
        "                    'num_tl_30dpd',\n",
        "                    'num_tl_op_past_12m',\n",
        "                    'pct_tl_nvr_dlq'\n",
        "]\n",
        "loans.drop(labels=excluded_features, axis=1, inplace=True)"
      ],
      "id": "K1X8nyGp3UjA",
      "execution_count": null,
      "outputs": []
    },
    {
      "cell_type": "code",
      "metadata": {
        "colab": {
          "base_uri": "https://localhost:8080/"
        },
        "id": "6w29TiCcZ3l3",
        "outputId": "ac74e29a-cf63-4e7d-dba5-42d69d640285"
      },
      "source": [
        "loans.isnull().sum()"
      ],
      "id": "6w29TiCcZ3l3",
      "execution_count": null,
      "outputs": [
        {
          "output_type": "execute_result",
          "data": {
            "text/plain": [
              "loan_amnt                         33\n",
              "term                              33\n",
              "int_rate                          33\n",
              "installment                       33\n",
              "grade                             33\n",
              "sub_grade                         33\n",
              "emp_title                     167002\n",
              "emp_length                    146940\n",
              "home_ownership                    33\n",
              "annual_inc                        37\n",
              "verification_status               33\n",
              "issue_d                           33\n",
              "loan_status                       33\n",
              "purpose                           33\n",
              "zip_code                          34\n",
              "addr_state                        33\n",
              "dti                             1744\n",
              "open_acc                          62\n",
              "pub_rec                           62\n",
              "total_acc                         62\n",
              "avg_cur_bal                    70379\n",
              "bc_util                        76104\n",
              "mo_sin_rcnt_tl                 70309\n",
              "mort_acc                       50063\n",
              "mths_since_recent_bc           73445\n",
              "num_actv_bc_tl                 70309\n",
              "num_actv_rev_tl                70309\n",
              "num_bc_sats                    58623\n",
              "num_bc_tl                      70309\n",
              "num_il_tl                      70309\n",
              "num_op_rev_tl                  70309\n",
              "num_rev_accts                  70310\n",
              "num_rev_tl_bal_gt_0            70309\n",
              "num_sats                       58623\n",
              "num_tl_90g_dpd_24m             70309\n",
              "percent_bc_gt_75               75412\n",
              "pub_rec_bankruptcies            1398\n",
              "tax_liens                        138\n",
              "total_bal_ex_mort              50063\n",
              "total_bc_limit                 50063\n",
              "total_il_high_credit_limit     70309\n",
              "dtype: int64"
            ]
          },
          "metadata": {},
          "execution_count": 15
        }
      ]
    },
    {
      "cell_type": "code",
      "metadata": {
        "colab": {
          "base_uri": "https://localhost:8080/"
        },
        "id": "U7HkpdoGaw5H",
        "outputId": "7660ea27-a34d-4a50-bebb-b7bf5eb6cd09"
      },
      "source": [
        "loans['emp_title'].nunique()"
      ],
      "id": "U7HkpdoGaw5H",
      "execution_count": null,
      "outputs": [
        {
          "output_type": "execute_result",
          "data": {
            "text/plain": [
              "512694"
            ]
          },
          "metadata": {},
          "execution_count": 16
        }
      ]
    },
    {
      "cell_type": "code",
      "metadata": {
        "id": "HhYeXBiRa9xz"
      },
      "source": [
        "loans = loans.drop('emp_title',axis=1)"
      ],
      "id": "HhYeXBiRa9xz",
      "execution_count": null,
      "outputs": []
    },
    {
      "cell_type": "code",
      "metadata": {
        "id": "Kibl9l4JbBpd"
      },
      "source": [
        "emp_length_order = sorted(loans['emp_length'].dropna().unique())"
      ],
      "id": "Kibl9l4JbBpd",
      "execution_count": null,
      "outputs": []
    },
    {
      "cell_type": "code",
      "metadata": {
        "id": "J0j4W4KfbRtB",
        "colab": {
          "base_uri": "https://localhost:8080/",
          "height": 298
        },
        "outputId": "5eabcf75-0746-462a-839f-da2bb68d8e3a"
      },
      "source": [
        "plt.figure(figsize=(12,4))\n",
        "\n",
        "sns.countplot(x='emp_length',data=loans,order=emp_length_order)"
      ],
      "id": "J0j4W4KfbRtB",
      "execution_count": null,
      "outputs": [
        {
          "output_type": "execute_result",
          "data": {
            "text/plain": [
              "<matplotlib.axes._subplots.AxesSubplot at 0x7f579231ee10>"
            ]
          },
          "metadata": {},
          "execution_count": 19
        },
        {
          "output_type": "display_data",
          "data": {
            "text/plain": [
              "<Figure size 864x288 with 1 Axes>"
            ],
            "image/png": "[encoded data removed]"
          },
          "metadata": {
            "needs_background": "light"
          }
        }
      ]
    },
    {
      "cell_type": "code",
      "metadata": {
        "colab": {
          "base_uri": "https://localhost:8080/",
          "height": 298
        },
        "id": "WYrR6GWDbh-B",
        "outputId": "9375e8fe-420b-4cde-a474-8955fcf66720"
      },
      "source": [
        "plt.figure(figsize=(12,4))\n",
        "sns.countplot(x='emp_length',data=loans,order=emp_length_order,hue='loan_status')"
      ],
      "id": "WYrR6GWDbh-B",
      "execution_count": null,
      "outputs": [
        {
          "output_type": "execute_result",
          "data": {
            "text/plain": [
              "<matplotlib.axes._subplots.AxesSubplot at 0x7f578fb30fd0>"
            ]
          },
          "metadata": {},
          "execution_count": 20
        },
        {
          "output_type": "display_data",
          "data": {
            "text/plain": [
              "<Figure size 864x288 with 1 Axes>"
            ],
            "image/png": "[encoded data removed]"
          },
          "metadata": {
            "needs_background": "light"
          }
        }
      ]
    },
    {
      "cell_type": "code",
      "metadata": {
        "colab": {
          "base_uri": "https://localhost:8080/",
          "height": 339
        },
        "id": "sJK69uZdcfmG",
        "outputId": "68962729-8508-4dc7-c1dd-31864e371ae6"
      },
      "source": [
        "emp_co = loans[loans['loan_status']=='Fully Paid'].groupby(\"emp_length\").count()['loan_status']\n",
        "emp_fp = loans[loans['loan_status']=='Charged Off'].groupby(\"emp_length\").count()['loan_status']\n",
        "emp_len = emp_fp/emp_co\n",
        "emp_len.plot(kind='bar')"
      ],
      "id": "sJK69uZdcfmG",
      "execution_count": null,
      "outputs": [
        {
          "output_type": "execute_result",
          "data": {
            "text/plain": [
              "<matplotlib.axes._subplots.AxesSubplot at 0x7f577a076090>"
            ]
          },
          "metadata": {},
          "execution_count": 21
        },
        {
          "output_type": "display_data",
          "data": {
            "text/plain": [
              "<Figure size 432x288 with 1 Axes>"
            ],
            "image/png": "[encoded data removed]"
          },
          "metadata": {
            "needs_background": "light"
          }
        }
      ]
    },
    {
      "cell_type": "code",
      "metadata": {
        "id": "3tE8a_1QdVZ_"
      },
      "source": [
        "loans = loans.drop('emp_length',axis=1)"
      ],
      "id": "3tE8a_1QdVZ_",
      "execution_count": null,
      "outputs": []
    },
    {
      "cell_type": "markdown",
      "metadata": {
        "id": "MlQPJec9S3V5"
      },
      "source": [
        "## Refining our dependent variable"
      ],
      "id": "MlQPJec9S3V5"
    },
    {
      "cell_type": "code",
      "metadata": {
        "colab": {
          "base_uri": "https://localhost:8080/"
        },
        "id": "Q2pj1rEiTFGL",
        "outputId": "9a27f006-165b-48a6-dea5-f3d3f0a3d345"
      },
      "source": [
        "loans['loan_status'].value_counts()"
      ],
      "id": "Q2pj1rEiTFGL",
      "execution_count": null,
      "outputs": [
        {
          "output_type": "execute_result",
          "data": {
            "text/plain": [
              "Fully Paid                                             1076751\n",
              "Current                                                 878317\n",
              "Charged Off                                             268559\n",
              "Late (31-120 days)                                       21467\n",
              "In Grace Period                                           8436\n",
              "Late (16-30 days)                                         4349\n",
              "Does not meet the credit policy. Status:Fully Paid        1988\n",
              "Does not meet the credit policy. Status:Charged Off        761\n",
              "Default                                                     40\n",
              "Name: loan_status, dtype: int64"
            ]
          },
          "metadata": {},
          "execution_count": 23
        }
      ]
    },
    {
      "cell_type": "code",
      "metadata": {
        "colab": {
          "base_uri": "https://localhost:8080/"
        },
        "id": "wFFyVVBYTP6H",
        "outputId": "0c9bcb13-3071-452c-fec5-e1c9dac8e4ec"
      },
      "source": [
        "#@title Filtering the data on fully based and charged of bases\n",
        "loans = loans.loc[loans['loan_status'].isin(['Fully Paid','Charged Off'])]\n",
        "print(\"Number of loans: \"+\"{:,.0f}\".format(len(loans)))"
      ],
      "id": "wFFyVVBYTP6H",
      "execution_count": null,
      "outputs": [
        {
          "output_type": "stream",
          "name": "stdout",
          "text": [
            "Number of loans: 1,345,310\n"
          ]
        }
      ]
    },
    {
      "cell_type": "code",
      "metadata": {
        "colab": {
          "base_uri": "https://localhost:8080/",
          "height": 375
        },
        "id": "MAMXerddTi42",
        "outputId": "a821aec4-7ee1-44e8-955d-3d3494ada9ae"
      },
      "source": [
        "#@title Distribution of Possible Label Outputs\n",
        "loans['loan_status'].value_counts(dropna=False)\n",
        "chargeoffrate = loans['loan_status'].value_counts(normalize=True,dropna=False)\n",
        "\n",
        "# Showing it visually in a pie chart; creating the labels for the chart:\n",
        "labels = []\n",
        "for i in chargeoffrate:\n",
        "    labels.append(str(round(i*100,0))+\"%\")\n",
        "\n",
        "# Creating the pie chart\n",
        "plt.figure(figsize=(12,6))\n",
        "plt.title('Loan status', fontsize=16, fontweight='bold');\n",
        "plt.pie(chargeoffrate,labels=labels,startangle=90);\n",
        "plt.legend(['Fully paid','Charged off'], loc='best', bbox_to_anchor=(1, 0.6));"
      ],
      "id": "MAMXerddTi42",
      "execution_count": null,
      "outputs": [
        {
          "output_type": "display_data",
          "data": {
            "text/plain": [
              "<Figure size 864x432 with 1 Axes>"
            ],
            "image/png": "[encoded data removed]"
          },
          "metadata": {}
        }
      ]
    },
    {
      "cell_type": "code",
      "metadata": {
        "colab": {
          "base_uri": "https://localhost:8080/",
          "height": 427
        },
        "id": "hj_1oqxhT9YB",
        "outputId": "c7d18581-afc2-4477-d4a6-0e5a6683422b"
      },
      "source": [
        "#@title Calculating Life time cost of risk\n",
        "chargeoffamount = loans.groupby('loan_status').loan_amnt.sum().sort_values(ascending=False)\n",
        "\n",
        "# Showing the amounts in $bn\n",
        "print(\"Fully paid loans amount to $\"+str(round(chargeoffamount[0]/1e9,1))+\"bn\")\n",
        "print(\"Charged off loans amount to $\"+str(round(chargeoffamount[1]/1e9,1))+\"bn\")\n",
        "\n",
        "# What is this as a percentage of the charge off rate, i.e. the cost of risk (CoR)?\n",
        "Total_CoR = chargeoffamount[1]/loans['loan_amnt'].sum()\n",
        "print(\"Life time cost of risk (CoR) is \"+str(round(Total_CoR*100,1))+\"%\")\n",
        "\n",
        "labels = []\n",
        "for i in chargeoffamount:\n",
        "    labels.append('$'+str(round(i/1e9,1))+\"bn\")\n",
        "\n",
        "# Creating the pie chart\n",
        "plt.figure(figsize=(12,6))\n",
        "plt.title('Loan amounts', fontsize=16, fontweight='bold');\n",
        "plt.pie(chargeoffrate,labels=labels,startangle=90);\n",
        "plt.legend(['Fully paid','Charged off'], loc='best', bbox_to_anchor=(1, 0.6));"
      ],
      "id": "hj_1oqxhT9YB",
      "execution_count": null,
      "outputs": [
        {
          "output_type": "stream",
          "name": "stdout",
          "text": [
            "Fully paid loans amount to $15.2bn\n",
            "Charged off loans amount to $4.2bn\n",
            "Life time cost of risk (CoR) is 21.5%\n"
          ]
        },
        {
          "output_type": "display_data",
          "data": {
            "text/plain": [
              "<Figure size 864x432 with 1 Axes>"
            ],
            "image/png": "[encoded data removed]"
          },
          "metadata": {}
        }
      ]
    },
    {
      "cell_type": "code",
      "metadata": {
        "colab": {
          "base_uri": "https://localhost:8080/"
        },
        "id": "jXy3jxSIUib1",
        "outputId": "45182989-7a02-4f74-fb4e-cd212f7f7f07"
      },
      "source": [
        "#@title Average Rate of Interest\n",
        "loans['int_amnt'] = loans['int_rate']*loans['loan_amnt']\n",
        "wgt_av_int_rate = loans['int_amnt'].sum()/loans['loan_amnt'].sum()\n",
        "\n",
        "print('Average interest rate of the book is: '+str(round(loans['int_rate'].mean(),2))+\"%\")\n",
        "print('Weighted av. rate of the book is: '+str(round(wgt_av_int_rate,2))+\"%\")"
      ],
      "id": "jXy3jxSIUib1",
      "execution_count": null,
      "outputs": [
        {
          "output_type": "stream",
          "name": "stdout",
          "text": [
            "Average interest rate of the book is: 13.24%\n",
            "Weighted av. rate of the book is: 13.65%\n"
          ]
        }
      ]
    },
    {
      "cell_type": "markdown",
      "metadata": {
        "id": "IlzeOmblUyRv"
      },
      "source": [
        "## Analysis of Independent Attributes"
      ],
      "id": "IlzeOmblUyRv"
    },
    {
      "cell_type": "code",
      "metadata": {
        "id": "RyeSVcLYVJsX"
      },
      "source": [
        "from  matplotlib.font_manager import FontProperties"
      ],
      "id": "RyeSVcLYVJsX",
      "execution_count": null,
      "outputs": []
    },
    {
      "cell_type": "code",
      "metadata": {
        "id": "zyuE28LuU7gp"
      },
      "source": [
        "def plot_var(col_name, full_name, df=loans, continuous=True, rotation=0, alignment='center'):\n",
        "    \"\"\"\n",
        "    Visualises the distribution of a variable and assess its impact on success rate.\n",
        "    - col_name (variable): variable name in the dataframe\n",
        "    - full_name (string): full variable name for presentation purposes\n",
        "    - df (df): name of the dataframe\n",
        "    - continuous (bool): True if the variable is continuous, and is set as True as default\n",
        "    - rotation (int): rotation of the x axis labels\n",
        "    - alignment (string): alignment of the x axis labels and should be 'right' if rotating the labels\n",
        "    - returns: two charts analysing the loan portfolio\n",
        "    \"\"\"\n",
        "\n",
        "    # Set up figure space:\n",
        "    fig, (ax1, ax2) = plt.subplots(nrows=1, ncols=2, figsize=(12,4), dpi=90)\n",
        "    sns.set(palette='bright')\n",
        "\n",
        "    # Set the font options for the x/y axes labels:\n",
        "    font = FontProperties(size=12)\n",
        "    font.set_style('italic')\n",
        "\n",
        "    # Plot distribution of the variable without showing charge off rate\n",
        "    if continuous:\n",
        "        # Show a histogram to visualise variable\n",
        "        sns.histplot(df.loc[df[col_name].notnull(), col_name], kde=False, ax=ax1, bins=30)\n",
        "    else:\n",
        "        x_labels = df[col_name].sort_values().unique()\n",
        "        sns.countplot(x=df[col_name], order=sorted(df[col_name].unique()), ax=ax1).set_xticklabels(x_labels, rotation=rotation, horizontalalignment=alignment)\n",
        "\n",
        "    # Formatting the x labels\n",
        "    ax1.set_xlabel(full_name, fontproperties=font)\n",
        "\n",
        "    # Formatting the y labels\n",
        "    y_labels_1 = ['{:,.0f}'.format(x) + 'K' for x in ax1.get_yticks()/1000]\n",
        "    # ax1.yaxis.set_major_locator(mticker.FixedLocator(ax1.get_yticks().tolist()))\n",
        "    ax1.set_yticklabels(y_labels_1)\n",
        "    ax1.set_ylabel('Count', fontproperties=font)\n",
        "\n",
        "    # Formatting the title\n",
        "    ax1.set_title(full_name+\"\\n\", fontweight='bold')\n",
        "\n",
        "    # Plot distribution of variable split by loan status\n",
        "    if continuous:\n",
        "        sns.boxplot(x=col_name, y='loan_status', data=df, ax=ax2)\n",
        "        ax2.set_ylabel('Loan status', fontproperties=font)\n",
        "        ax2.set_title(full_name + ' by loan status'+\"\\n\", fontweight='bold')\n",
        "    else:\n",
        "        charge_off_rates = df.groupby(col_name)['loan_status'].value_counts(normalize=True).loc[:,'Charged Off']\n",
        "        sns.barplot(x=charge_off_rates.index, y=charge_off_rates.values, ax=ax2)\n",
        "\n",
        "        # Formatting the x-axis\n",
        "        ax2.set_xticklabels(charge_off_rates.index,rotation=rotation, horizontalalignment=alignment)\n",
        "\n",
        "        # Formatting the y-axis\n",
        "        y_labels_2 = ['{:,.0f}'.format(x) + '%' for x in ax2.get_yticks()*100]\n",
        "        # ax2.yaxis.set_major_locator(mticker.FixedLocator(ax2.get_yticks().tolist()))\n",
        "        ax2.set_yticklabels(y_labels_2)\n",
        "        ax2.set_ylabel('Proportion of loans charged off', fontproperties=font)\n",
        "\n",
        "        # Formatting the title\n",
        "        ax2.set_title('Charge off rate by ' + full_name+\"\\n\", fontweight='bold')\n",
        "\n",
        "    ax2.set_xlabel(full_name, fontproperties=font)\n",
        "\n",
        "    plt.tight_layout()"
      ],
      "id": "zyuE28LuU7gp",
      "execution_count": null,
      "outputs": []
    },
    {
      "cell_type": "code",
      "metadata": {
        "colab": {
          "base_uri": "https://localhost:8080/",
          "height": 362
        },
        "id": "J0Edy2WgVqvv",
        "outputId": "d52c0245-3f31-477e-e8ae-6a7295414ffb"
      },
      "source": [
        "plot_var('int_rate', 'Interest rate', loans)"
      ],
      "id": "J0Edy2WgVqvv",
      "execution_count": null,
      "outputs": [
        {
          "output_type": "display_data",
          "data": {
            "text/plain": [
              "<Figure size 1080x360 with 2 Axes>"
            ],
            "image/png": "[encoded data removed]"
          },
          "metadata": {
            "needs_background": "light"
          }
        }
      ]
    },
    {
      "cell_type": "code",
      "metadata": {
        "colab": {
          "base_uri": "https://localhost:8080/",
          "height": 362
        },
        "id": "55l8c2VfVtPV",
        "outputId": "80b3f443-43f5-4972-e82a-de781033fdfb"
      },
      "source": [
        "plot_var('grade','Investment grade',continuous=False)"
      ],
      "id": "55l8c2VfVtPV",
      "execution_count": null,
      "outputs": [
        {
          "output_type": "display_data",
          "data": {
            "text/plain": [
              "<Figure size 1080x360 with 2 Axes>"
            ],
            "image/png": "[encoded data removed]"
          },
          "metadata": {}
        }
      ]
    },
    {
      "cell_type": "code",
      "metadata": {
        "colab": {
          "base_uri": "https://localhost:8080/",
          "height": 362
        },
        "id": "h4Ojg64hVvbk",
        "outputId": "3925424e-31fe-4e4c-f64c-b98c21e59e50"
      },
      "source": [
        "plot_var('sub_grade','Sub-investment grade',continuous=False)"
      ],
      "id": "h4Ojg64hVvbk",
      "execution_count": null,
      "outputs": [
        {
          "output_type": "display_data",
          "data": {
            "text/plain": [
              "<Figure size 1080x360 with 2 Axes>"
            ],
            "image/png": "[encoded data removed]"
          },
          "metadata": {}
        }
      ]
    },
    {
      "cell_type": "code",
      "metadata": {
        "colab": {
          "base_uri": "https://localhost:8080/",
          "height": 302
        },
        "id": "xavqCSJHZGvA",
        "outputId": "a33fe7fa-fc46-4767-ddd1-8b65bb311376"
      },
      "source": [
        "plt.figure(figsize=(12,4))\n",
        "subgrade_order = sorted(loans['sub_grade'].unique())\n",
        "sns.countplot(x='sub_grade',data=loans,order = subgrade_order,palette='coolwarm' ,hue='loan_status')"
      ],
      "id": "xavqCSJHZGvA",
      "execution_count": null,
      "outputs": [
        {
          "output_type": "execute_result",
          "data": {
            "text/plain": [
              "<matplotlib.axes._subplots.AxesSubplot at 0x7f577c9514d0>"
            ]
          },
          "metadata": {},
          "execution_count": 33
        },
        {
          "output_type": "display_data",
          "data": {
            "text/plain": [
              "<Figure size 864x288 with 1 Axes>"
            ],
            "image/png": "[encoded data removed]"
          },
          "metadata": {}
        }
      ]
    },
    {
      "cell_type": "code",
      "metadata": {
        "colab": {
          "base_uri": "https://localhost:8080/",
          "height": 362
        },
        "id": "uW72oQyjWJTA",
        "outputId": "a8799887-5321-4cf0-bf4b-5473c0cd5e6a"
      },
      "source": [
        "plot_var('loan_amnt', 'Loan amount')"
      ],
      "id": "uW72oQyjWJTA",
      "execution_count": null,
      "outputs": [
        {
          "output_type": "display_data",
          "data": {
            "text/plain": [
              "<Figure size 1080x360 with 2 Axes>"
            ],
            "image/png": "[encoded data removed]"
          },
          "metadata": {}
        }
      ]
    },
    {
      "cell_type": "code",
      "metadata": {
        "colab": {
          "base_uri": "https://localhost:8080/"
        },
        "id": "zsnJ4NQeXq8T",
        "outputId": "c31c1e3c-ea8f-4a58-e90b-36d97c2351ef"
      },
      "source": [
        "loans['term'].unique()"
      ],
      "id": "zsnJ4NQeXq8T",
      "execution_count": null,
      "outputs": [
        {
          "output_type": "execute_result",
          "data": {
            "text/plain": [
              "array([' 36 months', ' 60 months'], dtype=object)"
            ]
          },
          "metadata": {},
          "execution_count": 35
        }
      ]
    },
    {
      "cell_type": "code",
      "metadata": {
        "id": "yEbWCF0EWQAx"
      },
      "source": [
        "loans['term'] = loans.term.map({' 36 months': 36, ' 60 months': 60})\n"
      ],
      "id": "yEbWCF0EWQAx",
      "execution_count": null,
      "outputs": []
    },
    {
      "cell_type": "code",
      "metadata": {
        "colab": {
          "base_uri": "https://localhost:8080/",
          "height": 362
        },
        "id": "EYlNceo5YB9m",
        "outputId": "429f4035-5d49-4cf4-b26e-9bd9404a7f91"
      },
      "source": [
        "plot_var('term', 'Term', continuous=False)"
      ],
      "id": "EYlNceo5YB9m",
      "execution_count": null,
      "outputs": [
        {
          "output_type": "display_data",
          "data": {
            "text/plain": [
              "<Figure size 1080x360 with 2 Axes>"
            ],
            "image/png": "[encoded data removed]"
          },
          "metadata": {}
        }
      ]
    },
    {
      "cell_type": "code",
      "metadata": {
        "colab": {
          "base_uri": "https://localhost:8080/"
        },
        "id": "wfBGZKVrjvJ7",
        "outputId": "43e4b7fe-cc6d-4314-aac8-1830551eac6b"
      },
      "source": [
        "len(loans.columns)"
      ],
      "id": "wfBGZKVrjvJ7",
      "execution_count": null,
      "outputs": [
        {
          "output_type": "execute_result",
          "data": {
            "text/plain": [
              "40"
            ]
          },
          "metadata": {},
          "execution_count": 38
        }
      ]
    },
    {
      "cell_type": "code",
      "metadata": {
        "id": "KTTwCVF1lNLi"
      },
      "source": [
        "temp = copy.deepcopy(loans)"
      ],
      "id": "KTTwCVF1lNLi",
      "execution_count": null,
      "outputs": []
    },
    {
      "cell_type": "markdown",
      "metadata": {
        "id": "RjKJamoaYttu"
      },
      "source": [
        "## Data Preprocessing and Cleaning"
      ],
      "id": "RjKJamoaYttu"
    },
    {
      "cell_type": "code",
      "metadata": {
        "id": "2b70b526",
        "colab": {
          "base_uri": "https://localhost:8080/",
          "height": 362
        },
        "outputId": "7e367e1a-d592-4d89-bf19-676e272a7d74"
      },
      "source": [
        "loans.fillna(0, inplace=True)\n",
        "loans = loans.loc[loans['loan_status'].isin(['Fully Paid','Charged Off'])]\n",
        "\n",
        "# Cleaning home ownership:\n",
        "loans[\"home_ownership\"].replace([\"NONE\", \"ANY\"], \"OTHER\", inplace=True)\n",
        "\n",
        "# Swapping the charge off and fully paid strings for 1/0\n",
        "loans.insert(1, 'charge_off_rate', loans.loan_status.map({'Charged Off': 1, 'Fully Paid': 0}))\n",
        "\n",
        "# Dropping dependent variables like grade and installment:\n",
        "dep_vars = [\"grade\", \"sub_grade\", \"installment\", \"loan_status\", \"addr_state\"]\n",
        "loans.drop(columns=dep_vars, axis=1, inplace=True)\n",
        "\n",
        "# After analysis, dropping columns with no impact on creditworthiness:\n",
        "no_indict = ['zip_code']\n",
        "\n",
        "loans.drop(columns=no_indict, axis=1, inplace=True)\n",
        "\n",
        "# Removing outliers on DTI column:\n",
        "loans['dti'].values[loans['dti'].values > 40] = 40\n",
        "loans['dti'].values[loans['dti'].values < 0] = 0\n",
        "\n",
        "# Removing outliers in open accounts column:\n",
        "# loans['open_acc'].values[loans['open_acc'].values > 30] = 30\n",
        "\n",
        "# Removing outliers (>100) in revolver utilisation rates:\n",
        "# loans['revol_util'].values[loans['revol_util'].values > 100] = 100\n",
        "\n",
        "# Removing the tail (36m+) of months since recent revolver opened:\n",
        "# loans['mo_sin_rcnt_rev_tl_op'].values[loans['mo_sin_rcnt_rev_tl_op'].values > 36] = 36\n",
        "\n",
        "# Removing the tail (36m+) of months since recent account opened:\n",
        "# loans['mo_sin_rcnt_tl'].values[loans['mo_sin_rcnt_tl'].values > 36] = 36\n",
        "\n",
        "# # Creating two columns useful for calculations later:\n",
        "# loans['term_amnt'] = loans['term'] * loans['loan_amnt']\n",
        "# loans['int_rate_amnt'] = loans['int_rate'] * loans['loan_amnt']\n",
        "\n",
        "#percenatge of the salary\n",
        "\n",
        "\n",
        "# adding new coloumns\n",
        "\n",
        "# features= [ \"purpose\", \"verification_status\", \"home_ownership\"]\n",
        "# loans = pd.get_dummies( loans, columns= features, drop_first = True)\n",
        "\n",
        "loans['term']= loans['term'].str.slice(start=1,stop=3)\n",
        "loans['term'] = loans['term'].astype(int)\n"
      ],
      "id": "2b70b526",
      "execution_count": null,
      "outputs": [
        {
          "output_type": "error",
          "ename": "AttributeError",
          "evalue": "ignored",
          "traceback": [
            "\u001b[0;31m---------------------------------------------------------------------------\u001b[0m",
            "\u001b[0;31mAttributeError\u001b[0m                            Traceback (most recent call last)",
            "\u001b[0;32m<ipython-input-40-a90c8730d429>\u001b[0m in \u001b[0;36m<module>\u001b[0;34m()\u001b[0m\n\u001b[1;32m     45\u001b[0m \u001b[0;31m# loans = pd.get_dummies( loans, columns= features, drop_first = True)\u001b[0m\u001b[0;34m\u001b[0m\u001b[0;34m\u001b[0m\u001b[0;34m\u001b[0m\u001b[0m\n\u001b[1;32m     46\u001b[0m \u001b[0;34m\u001b[0m\u001b[0m\n\u001b[0;32m---> 47\u001b[0;31m \u001b[0mloans\u001b[0m\u001b[0;34m[\u001b[0m\u001b[0;34m'term'\u001b[0m\u001b[0;34m]\u001b[0m\u001b[0;34m=\u001b[0m \u001b[0mloans\u001b[0m\u001b[0;34m[\u001b[0m\u001b[0;34m'term'\u001b[0m\u001b[0;34m]\u001b[0m\u001b[0;34m.\u001b[0m\u001b[0mstr\u001b[0m\u001b[0;34m.\u001b[0m\u001b[0mslice\u001b[0m\u001b[0;34m(\u001b[0m\u001b[0mstart\u001b[0m\u001b[0;34m=\u001b[0m\u001b[0;36m1\u001b[0m\u001b[0;34m,\u001b[0m\u001b[0mstop\u001b[0m\u001b[0;34m=\u001b[0m\u001b[0;36m3\u001b[0m\u001b[0;34m)\u001b[0m\u001b[0;34m\u001b[0m\u001b[0;34m\u001b[0m\u001b[0m\n\u001b[0m\u001b[1;32m     48\u001b[0m \u001b[0mloans\u001b[0m\u001b[0;34m[\u001b[0m\u001b[0;34m'term'\u001b[0m\u001b[0;34m]\u001b[0m \u001b[0;34m=\u001b[0m \u001b[0mloans\u001b[0m\u001b[0;34m[\u001b[0m\u001b[0;34m'term'\u001b[0m\u001b[0;34m]\u001b[0m\u001b[0;34m.\u001b[0m\u001b[0mastype\u001b[0m\u001b[0;34m(\u001b[0m\u001b[0mint\u001b[0m\u001b[0;34m)\u001b[0m\u001b[0;34m\u001b[0m\u001b[0;34m\u001b[0m\u001b[0m\n",
            "\u001b[0;32m/usr/local/lib/python3.7/dist-packages/pandas/core/generic.py\u001b[0m in \u001b[0;36m__getattr__\u001b[0;34m(self, name)\u001b[0m\n\u001b[1;32m   5485\u001b[0m         ):\n\u001b[1;32m   5486\u001b[0m             \u001b[0;32mreturn\u001b[0m \u001b[0mself\u001b[0m\u001b[0;34m[\u001b[0m\u001b[0mname\u001b[0m\u001b[0;34m]\u001b[0m\u001b[0;34m\u001b[0m\u001b[0;34m\u001b[0m\u001b[0m\n\u001b[0;32m-> 5487\u001b[0;31m         \u001b[0;32mreturn\u001b[0m \u001b[0mobject\u001b[0m\u001b[0;34m.\u001b[0m\u001b[0m__getattribute__\u001b[0m\u001b[0;34m(\u001b[0m\u001b[0mself\u001b[0m\u001b[0;34m,\u001b[0m \u001b[0mname\u001b[0m\u001b[0;34m)\u001b[0m\u001b[0;34m\u001b[0m\u001b[0;34m\u001b[0m\u001b[0m\n\u001b[0m\u001b[1;32m   5488\u001b[0m \u001b[0;34m\u001b[0m\u001b[0m\n\u001b[1;32m   5489\u001b[0m     \u001b[0;32mdef\u001b[0m \u001b[0m__setattr__\u001b[0m\u001b[0;34m(\u001b[0m\u001b[0mself\u001b[0m\u001b[0;34m,\u001b[0m \u001b[0mname\u001b[0m\u001b[0;34m:\u001b[0m \u001b[0mstr\u001b[0m\u001b[0;34m,\u001b[0m \u001b[0mvalue\u001b[0m\u001b[0;34m)\u001b[0m \u001b[0;34m->\u001b[0m \u001b[0;32mNone\u001b[0m\u001b[0;34m:\u001b[0m\u001b[0;34m\u001b[0m\u001b[0;34m\u001b[0m\u001b[0m\n",
            "\u001b[0;32m/usr/local/lib/python3.7/dist-packages/pandas/core/accessor.py\u001b[0m in \u001b[0;36m__get__\u001b[0;34m(self, obj, cls)\u001b[0m\n\u001b[1;32m    179\u001b[0m             \u001b[0;31m# we're accessing the attribute of the class, i.e., Dataset.geo\u001b[0m\u001b[0;34m\u001b[0m\u001b[0;34m\u001b[0m\u001b[0;34m\u001b[0m\u001b[0m\n\u001b[1;32m    180\u001b[0m             \u001b[0;32mreturn\u001b[0m \u001b[0mself\u001b[0m\u001b[0;34m.\u001b[0m\u001b[0m_accessor\u001b[0m\u001b[0;34m\u001b[0m\u001b[0;34m\u001b[0m\u001b[0m\n\u001b[0;32m--> 181\u001b[0;31m         \u001b[0maccessor_obj\u001b[0m \u001b[0;34m=\u001b[0m \u001b[0mself\u001b[0m\u001b[0;34m.\u001b[0m\u001b[0m_accessor\u001b[0m\u001b[0;34m(\u001b[0m\u001b[0mobj\u001b[0m\u001b[0;34m)\u001b[0m\u001b[0;34m\u001b[0m\u001b[0;34m\u001b[0m\u001b[0m\n\u001b[0m\u001b[1;32m    182\u001b[0m         \u001b[0;31m# Replace the property with the accessor object. Inspired by:\u001b[0m\u001b[0;34m\u001b[0m\u001b[0;34m\u001b[0m\u001b[0;34m\u001b[0m\u001b[0m\n\u001b[1;32m    183\u001b[0m         \u001b[0;31m# https://www.pydanny.com/cached-property.html\u001b[0m\u001b[0;34m\u001b[0m\u001b[0;34m\u001b[0m\u001b[0;34m\u001b[0m\u001b[0m\n",
            "\u001b[0;32m/usr/local/lib/python3.7/dist-packages/pandas/core/strings/accessor.py\u001b[0m in \u001b[0;36m__init__\u001b[0;34m(self, data)\u001b[0m\n\u001b[1;32m    166\u001b[0m         \u001b[0;32mfrom\u001b[0m \u001b[0mpandas\u001b[0m\u001b[0;34m.\u001b[0m\u001b[0mcore\u001b[0m\u001b[0;34m.\u001b[0m\u001b[0marrays\u001b[0m\u001b[0;34m.\u001b[0m\u001b[0mstring_\u001b[0m \u001b[0;32mimport\u001b[0m \u001b[0mStringDtype\u001b[0m\u001b[0;34m\u001b[0m\u001b[0;34m\u001b[0m\u001b[0m\n\u001b[1;32m    167\u001b[0m \u001b[0;34m\u001b[0m\u001b[0m\n\u001b[0;32m--> 168\u001b[0;31m         \u001b[0mself\u001b[0m\u001b[0;34m.\u001b[0m\u001b[0m_inferred_dtype\u001b[0m \u001b[0;34m=\u001b[0m \u001b[0mself\u001b[0m\u001b[0;34m.\u001b[0m\u001b[0m_validate\u001b[0m\u001b[0;34m(\u001b[0m\u001b[0mdata\u001b[0m\u001b[0;34m)\u001b[0m\u001b[0;34m\u001b[0m\u001b[0;34m\u001b[0m\u001b[0m\n\u001b[0m\u001b[1;32m    169\u001b[0m         \u001b[0mself\u001b[0m\u001b[0;34m.\u001b[0m\u001b[0m_is_categorical\u001b[0m \u001b[0;34m=\u001b[0m \u001b[0mis_categorical_dtype\u001b[0m\u001b[0;34m(\u001b[0m\u001b[0mdata\u001b[0m\u001b[0;34m.\u001b[0m\u001b[0mdtype\u001b[0m\u001b[0;34m)\u001b[0m\u001b[0;34m\u001b[0m\u001b[0;34m\u001b[0m\u001b[0m\n\u001b[1;32m    170\u001b[0m         \u001b[0mself\u001b[0m\u001b[0;34m.\u001b[0m\u001b[0m_is_string\u001b[0m \u001b[0;34m=\u001b[0m \u001b[0misinstance\u001b[0m\u001b[0;34m(\u001b[0m\u001b[0mdata\u001b[0m\u001b[0;34m.\u001b[0m\u001b[0mdtype\u001b[0m\u001b[0;34m,\u001b[0m \u001b[0mStringDtype\u001b[0m\u001b[0;34m)\u001b[0m\u001b[0;34m\u001b[0m\u001b[0;34m\u001b[0m\u001b[0m\n",
            "\u001b[0;32m/usr/local/lib/python3.7/dist-packages/pandas/core/strings/accessor.py\u001b[0m in \u001b[0;36m_validate\u001b[0;34m(data)\u001b[0m\n\u001b[1;32m    223\u001b[0m \u001b[0;34m\u001b[0m\u001b[0m\n\u001b[1;32m    224\u001b[0m         \u001b[0;32mif\u001b[0m \u001b[0minferred_dtype\u001b[0m \u001b[0;32mnot\u001b[0m \u001b[0;32min\u001b[0m \u001b[0mallowed_types\u001b[0m\u001b[0;34m:\u001b[0m\u001b[0;34m\u001b[0m\u001b[0;34m\u001b[0m\u001b[0m\n\u001b[0;32m--> 225\u001b[0;31m             \u001b[0;32mraise\u001b[0m \u001b[0mAttributeError\u001b[0m\u001b[0;34m(\u001b[0m\u001b[0;34m\"Can only use .str accessor with string values!\"\u001b[0m\u001b[0;34m)\u001b[0m\u001b[0;34m\u001b[0m\u001b[0;34m\u001b[0m\u001b[0m\n\u001b[0m\u001b[1;32m    226\u001b[0m         \u001b[0;32mreturn\u001b[0m \u001b[0minferred_dtype\u001b[0m\u001b[0;34m\u001b[0m\u001b[0;34m\u001b[0m\u001b[0m\n\u001b[1;32m    227\u001b[0m \u001b[0;34m\u001b[0m\u001b[0m\n",
            "\u001b[0;31mAttributeError\u001b[0m: Can only use .str accessor with string values!"
          ]
        }
      ]
    },
    {
      "cell_type": "code",
      "metadata": {
        "id": "-HK68MrH_wEm"
      },
      "source": [
        "loans = loans.sort_values('charge_off_rate')\n",
        "length_of_default = len(loans.loc[loans['charge_off_rate'] == 0])"
      ],
      "id": "-HK68MrH_wEm",
      "execution_count": null,
      "outputs": []
    },
    {
      "cell_type": "code",
      "metadata": {
        "id": "EFVFnXMgBnOd"
      },
      "source": [
        "from sklearn.model_selection import train_test_split"
      ],
      "id": "EFVFnXMgBnOd",
      "execution_count": null,
      "outputs": []
    },
    {
      "cell_type": "code",
      "metadata": {
        "id": "s9RlOnlW_Ivm"
      },
      "source": [
        "data_1 = loans[:length_of_default]\n",
        "data_2 = loans[length_of_default:]\n",
        "\n",
        "X_1 = data_1.drop('charge_off_rate', axis='columns')\n",
        "Y_1 = data_1.charge_off_rate\n",
        "X_2 = data_2.drop('charge_off_rate', axis='columns')\n",
        "Y_2 = data_2.charge_off_rate\n",
        "\n",
        "X_1train, X_1test, Y_1train, Y_1test = train_test_split(X_1, Y_1, test_size = 0.2, random_state = 42)\n",
        "X_2train, X_2test, Y_2train, Y_2test = train_test_split(X_2, Y_2, test_size = 0.2, random_state = 42)\n",
        "\n",
        "X_train = [X_1train, X_2train]\n",
        "X_train = pd.concat(X_train)\n",
        "Y_train = [Y_1train, Y_2train]\n",
        "Y_train = pd.concat(Y_train)\n",
        "X_test = [X_1test, X_2test]\n",
        "X_test = pd.concat(X_test)\n",
        "Y_test = [Y_1test, Y_2test]\n",
        "Y_test = pd.concat(Y_test)"
      ],
      "id": "s9RlOnlW_Ivm",
      "execution_count": null,
      "outputs": []
    },
    {
      "cell_type": "code",
      "metadata": {
        "id": "sRg7EMuiCdPd"
      },
      "source": [
        "X_train"
      ],
      "id": "sRg7EMuiCdPd",
      "execution_count": null,
      "outputs": []
    },
    {
      "cell_type": "code",
      "metadata": {
        "id": "y05bf5NC5I1I"
      },
      "source": [
        "correlation_Mat = loans.corr()\n",
        "plt.figure(figsize=(30,20))\n",
        "sns.heatmap(correlation_Mat, annot=True,cmap='viridis')\n",
        "plt.show()\n",
        "# df.corr()['loan_repaid'].sort_values().drop('loan_repaid').plot(kind='bar')"
      ],
      "id": "y05bf5NC5I1I",
      "execution_count": null,
      "outputs": []
    },
    {
      "cell_type": "code",
      "metadata": {
        "id": "7AxKkFkyG5Fs"
      },
      "source": [
        "def correlation(dataset, threshold):\n",
        "    col_corr = set()  # Set of all the names of correlated columns\n",
        "    corr_matrix = dataset.corr()\n",
        "    for i in range(len(corr_matrix.columns)):\n",
        "        for j in range(i):\n",
        "            if abs(corr_matrix.iloc[i, j]) > threshold: # we are interested in absolute coeff value\n",
        "                colname = corr_matrix.columns[i]  # getting the name of column\n",
        "                col_corr.add(colname)\n",
        "    return col_corr"
      ],
      "id": "7AxKkFkyG5Fs",
      "execution_count": null,
      "outputs": []
    },
    {
      "cell_type": "code",
      "metadata": {
        "id": "b2d2b5c9"
      },
      "source": [
        "corr_features = correlation(X_train, 0.5)\n",
        "print(len(corr_features))"
      ],
      "id": "b2d2b5c9",
      "execution_count": null,
      "outputs": []
    },
    {
      "cell_type": "code",
      "metadata": {
        "id": "SsBWtObZ9Z4t"
      },
      "source": [],
      "id": "SsBWtObZ9Z4t",
      "execution_count": null,
      "outputs": []
    },
    {
      "cell_type": "code",
      "metadata": {
        "id": "CNkUesoDBOth"
      },
      "source": [
        "correlation_Mat = loans.corr()\n",
        "plt.figure(figsize=(30,20))\n",
        "sns.heatmap(correlation_Mat, annot=True,cmap='viridis')\n",
        "plt.show()\n",
        "# df.corr()['loan_repaid'].sort_values().drop('loan_repaid').plot(kind='bar')"
      ],
      "id": "CNkUesoDBOth",
      "execution_count": null,
      "outputs": []
    },
    {
      "cell_type": "markdown",
      "metadata": {
        "id": "lWl74NwrBfzv"
      },
      "source": [],
      "id": "lWl74NwrBfzv"
    },
    {
      "cell_type": "code",
      "metadata": {
        "id": "gJX--lGDHtkL"
      },
      "source": [
        "tempdata = X_train.drop(list(corr_features), axis = 1)\n",
        "tempdata2 = X_test.drop(list(corr_features), axis = 1)"
      ],
      "id": "gJX--lGDHtkL",
      "execution_count": null,
      "outputs": []
    },
    {
      "cell_type": "code",
      "metadata": {
        "id": "vX4Wt9AoL29r"
      },
      "source": [
        "tempdata"
      ],
      "id": "vX4Wt9AoL29r",
      "execution_count": null,
      "outputs": []
    },
    {
      "cell_type": "code",
      "metadata": {
        "id": "Lq5r3_KfMQ9B"
      },
      "source": [
        "corr_features = correlation(tempdata, 0.5)\n",
        "print(len(corr_features))"
      ],
      "id": "Lq5r3_KfMQ9B",
      "execution_count": null,
      "outputs": []
    },
    {
      "cell_type": "code",
      "metadata": {
        "id": "buAo9iZ2McY6"
      },
      "source": [
        "correlation_Mat = tempdata.corr()\n",
        "plt.figure(figsize=(30,20))\n",
        "sns.heatmap(correlation_Mat, annot=True,cmap='viridis')\n",
        "plt.show()"
      ],
      "id": "buAo9iZ2McY6",
      "execution_count": null,
      "outputs": []
    },
    {
      "cell_type": "code",
      "metadata": {
        "id": "un5C232BMu_5"
      },
      "source": [
        "features= [ \"purpose\", \"verification_status\", \"home_ownership\"]\n",
        "tempdata = pd.get_dummies( tempdata, columns= features, drop_first = True)\n",
        "tempdata2 = pd.get_dummies( tempdata2, columns= features, drop_first = True)"
      ],
      "id": "un5C232BMu_5",
      "execution_count": null,
      "outputs": []
    },
    {
      "cell_type": "code",
      "metadata": {
        "id": "SGeY2b0BNxMC"
      },
      "source": [
        "tempdata = tempdata.drop(columns='issue_d', axis=1)\n",
        "tempdata2 = tempdata2.drop(columns='issue_d', axis=1)"
      ],
      "id": "SGeY2b0BNxMC",
      "execution_count": null,
      "outputs": []
    },
    {
      "cell_type": "code",
      "metadata": {
        "id": "hmBj_KvsNCZ1"
      },
      "source": [
        "from sklearn.linear_model import LogisticRegression\n",
        "from sklearn.metrics import confusion_matrix\n",
        "\n",
        "from sklearn.metrics import accuracy_score\n",
        "from sklearn.neighbors import KNeighborsClassifier"
      ],
      "id": "hmBj_KvsNCZ1",
      "execution_count": null,
      "outputs": []
    },
    {
      "cell_type": "code",
      "metadata": {
        "id": "nsSC2IxgNLxC"
      },
      "source": [
        "clf = LogisticRegression(random_state=0).fit(tempdata,  Y_train)\n",
        "y_pred = clf.predict(tempdata2)\n",
        "cm = confusion_matrix(Y_test, y_pred)\n",
        "print(cm)"
      ],
      "id": "nsSC2IxgNLxC",
      "execution_count": null,
      "outputs": []
    },
    {
      "cell_type": "code",
      "metadata": {
        "id": "qm2Mzw95O72b"
      },
      "source": [
        "print (\"Accuracy : \", accuracy_score(Y_test, y_pred))"
      ],
      "id": "qm2Mzw95O72b",
      "execution_count": null,
      "outputs": []
    },
    {
      "cell_type": "code",
      "metadata": {
        "id": "7O4r2WEq3_l-"
      },
      "source": [
        "loans.columns\n",
        "# funded_amnt\n",
        "# funded_amnt_inv\n",
        "# installment\n",
        "# grade\n",
        "#"
      ],
      "id": "7O4r2WEq3_l-",
      "execution_count": null,
      "outputs": []
    },
    {
      "cell_type": "code",
      "metadata": {
        "id": "twRnOQom4WU8"
      },
      "source": [],
      "id": "twRnOQom4WU8",
      "execution_count": null,
      "outputs": []
    },
    {
      "cell_type": "code",
      "metadata": {
        "id": "3993ebc9"
      },
      "source": [
        "temp_cal_x = ['loan_amnt',\n",
        "\n",
        "'open_acc',\n",
        "'total_pymnt',\n",
        "'total_rec_int',\n",
        "'home_ownership_OTHER', 'home_ownership_OWN', 'home_ownership_RENT',\n",
        "                   'verification_status_Source Verified', 'verification_status_Verified',\n",
        "                   'purpose_credit_card', 'purpose_debt_consolidation', 'purpose_educational',\n",
        "                   'purpose_home_improvement', 'purpose_house', 'purpose_major_purchase',\n",
        "                   'purpose_medical', 'purpose_moving', 'purpose_other',\n",
        "                   'purpose_renewable_energy', 'purpose_small_business',\n",
        "                   'purpose_vacation', 'purpose_wedding']\n",
        "temp_cal_y = [\"charge_off_rate\"]"
      ],
      "id": "3993ebc9",
      "execution_count": null,
      "outputs": []
    },
    {
      "cell_type": "code",
      "metadata": {
        "id": "153c4799"
      },
      "source": [],
      "id": "153c4799",
      "execution_count": null,
      "outputs": []
    },
    {
      "cell_type": "code",
      "metadata": {
        "id": "5907201c"
      },
      "source": [
        "\n",
        "testing_years_start = 2016\n",
        "\n",
        "\n",
        "loans['year'] = pd.DatetimeIndex(loans['issue_d']).year\n",
        "loans_train = loans.copy().loc[loans['year'] <= (testing_years_start-1)]\n",
        "loans_test = loans.copy().loc[loans['year'] >= testing_years_start]\n",
        "\n",
        "\n",
        "X_train = loans_train[temp_cal_x]\n",
        "y_train = loans_train[temp_cal_y]\n",
        "\n",
        "X_test = loans_test[temp_cal_x]\n",
        "y_test = loans_test[temp_cal_y]"
      ],
      "id": "5907201c",
      "execution_count": null,
      "outputs": []
    },
    {
      "cell_type": "code",
      "metadata": {
        "id": "2e95f394"
      },
      "source": [
        "from  matplotlib.font_manager import FontProperties"
      ],
      "id": "2e95f394",
      "execution_count": null,
      "outputs": []
    },
    {
      "cell_type": "code",
      "metadata": {
        "id": "ff0e6bd6"
      },
      "source": [
        "amnt_by_year = loans.groupby('year').loan_amnt.sum()/1e6\n",
        "amount = list(amnt_by_year.values)\n",
        "year = list(amnt_by_year.index)\n",
        "group = []\n",
        "for i in range(loans.year.min(),loans.year.max()+1):\n",
        "    if i >= testing_years_start: group.append('Test')\n",
        "    else: group.append('Train')\n",
        "\n",
        "graph_data = pd.DataFrame({'Year': year,'Loan amount': amount,'Group': group})\n",
        "\n",
        "# Bar plot\n",
        "figsize = (12, 4)\n",
        "fig, ax = plt.subplots(figsize=figsize)\n",
        "sns.barplot(x = 'Year', y = 'Loan amount', hue='Group', data=graph_data, palette = 'bright', dodge = False);\n",
        "\n",
        "# Set the font options for the x/y axes labels:\n",
        "font = FontProperties(size=14)\n",
        "font.set_style('italic')\n",
        "\n",
        "plt.title('Loans by year\\n', fontsize=16, fontweight='bold')\n",
        "plt.ylabel('Loan amount ($bn)', fontsize=14, fontproperties=font)\n",
        "ylabels = ['{:,.1f}'.format(y) for y in ax.get_yticks()/1000]\n"
      ],
      "id": "ff0e6bd6",
      "execution_count": null,
      "outputs": []
    },
    {
      "cell_type": "code",
      "metadata": {
        "id": "edbfd0b2"
      },
      "source": [
        "def book_stats(df, title):\n",
        "    \"\"\"\n",
        "    Function returns the key stats for the dataframe of loans\n",
        "    - df (df): dataframe we'll input to calculate the metrics from\n",
        "    - title (string): title of the output\n",
        "    - returns a number of financial stats as floats\n",
        "    \"\"\"\n",
        "\n",
        "    # Creating some variables for outputs later:\n",
        "    wgt_av_term = df['term_amnt'].sum() / df['loan_amnt'].sum()\n",
        "    wgt_av_int_rate = df['int_rate_amnt'].sum() / df['loan_amnt'].sum()\n",
        "    charge_off_rate = df['loan_status'].value_counts(normalize=True, dropna=False)\n",
        "    charge_off_amount = df.groupby('loan_status').loan_amnt.sum().sort_values(ascending=False)\n",
        "    total_CoR = charge_off_amount[1] / df['loan_amnt'].sum()\n",
        "\n",
        "    # And printing them out:\n",
        "    print(title)\n",
        "    print(\"  - Wgt. av. term is: \" + str(round(wgt_av_term, 2)) + \" months\")\n",
        "    print(\"  - Wgt. av. interest rate is: \" + str(round(wgt_av_int_rate, 2)) + \"%\")\n",
        "    print(\"  - Total cost of risk is: \" + str(round(total_CoR * 100, 2)) + \"%\")\n",
        "\n",
        "    return wgt_av_term, wgt_av_int_rate, charge_off_rate, charge_off_amount, total_CoR"
      ],
      "id": "edbfd0b2",
      "execution_count": null,
      "outputs": []
    },
    {
      "cell_type": "code",
      "metadata": {
        "id": "cb08f3fb"
      },
      "source": [
        "# loans['term']= loans['term'].str.slice(start=1,stop=3)\n",
        "\n",
        "# loans['term'] = loans['term'].astype(int)\n",
        "# loans['term_amnt'] = loans['term'] * loans['loan_amnt']\n",
        "# loans['int_rate_amnt'] = loans['int_rate'] *loans['int_rate']\n",
        "\n",
        "\n",
        "\n",
        "\n"
      ],
      "id": "cb08f3fb",
      "execution_count": null,
      "outputs": []
    },
    {
      "cell_type": "markdown",
      "metadata": {
        "id": "dab00a07"
      },
      "source": [],
      "id": "dab00a07"
    },
    {
      "cell_type": "code",
      "metadata": {
        "id": "6ed4cb75",
        "scrolled": true
      },
      "source": [
        "# book_stats(loans, 'Total book')\n",
        "# book_stats(loans_train, 'Training set')\n",
        "# book_stats(loans_test, 'Test set')"
      ],
      "id": "6ed4cb75",
      "execution_count": null,
      "outputs": []
    },
    {
      "cell_type": "code",
      "metadata": {
        "id": "3eb22cb5"
      },
      "source": [
        "def matrix_stats(matrix):\n",
        "    \"\"\"\n",
        "    Function to tell us the precision and recall of our confusion matrix as well as what %age of loans we're approving\n",
        "    - Matrix: confusion matrix\n",
        "    - Returns: A number of stats as floats\n",
        "    \"\"\"\n",
        "\n",
        "    # Setting the true/false positive/negatives\n",
        "    TP = matrix[1][1]\n",
        "    FP = matrix[0][1]\n",
        "    FN = matrix[1][0]\n",
        "    TN = matrix[0][0]\n",
        "\n",
        "    # Calculating the outputs\n",
        "    accuracy = (TP + TN) / (TP + TN + FP + FN)\n",
        "    precision = TP / (TP + FP)\n",
        "    recall = TP / (TP + FN)\n",
        "    F1_score = 2*(precision*recall)/(precision+recall)\n",
        "    approval_rate = (matrix[0][0] + matrix[1][0]) / (matrix[0].sum() + matrix[1].sum())\n",
        "\n",
        "    print(\"Accuracy: \" + str(round(accuracy, 3)))\n",
        "    print(\"Precision: \" + str(round(precision, 3)))\n",
        "    print(\"Recall: \" + str(round(recall, 3)))\n",
        "    print(\"F1 score: \" + str(round(F1_score, 3)))\n",
        "    print(\"Approval rate: \" + str(round(approval_rate * 100, 1)) + \"%\")\n",
        "\n",
        "    return precision, recall, F1_score, approval_rate"
      ],
      "id": "3eb22cb5",
      "execution_count": null,
      "outputs": []
    },
    {
      "cell_type": "code",
      "metadata": {
        "id": "23efa32f"
      },
      "source": [
        "n = y_train.value_counts()\n",
        "class_weights = {0:1- n[0]/n.sum(), 1:1- n[1]/n.sum()}"
      ],
      "id": "23efa32f",
      "execution_count": null,
      "outputs": []
    },
    {
      "cell_type": "code",
      "metadata": {
        "id": "515c2c94"
      },
      "source": [
        "from sklearn.linear_model import LogisticRegression\n",
        "from sklearn.metrics import confusion_matrix\n",
        "\n",
        "from sklearn.neighbors import KNeighborsClassifier"
      ],
      "id": "515c2c94",
      "execution_count": null,
      "outputs": []
    },
    {
      "cell_type": "code",
      "metadata": {
        "id": "8f24defe"
      },
      "source": [
        "X_train.drop(columns=[\"grade\"], axis=1, inplace=True)\n",
        "X_test.drop(columns=[\"grade\"], axis=1, inplace=True)\n"
      ],
      "id": "8f24defe",
      "execution_count": null,
      "outputs": []
    },
    {
      "cell_type": "code",
      "metadata": {
        "id": "bb7cfcd1"
      },
      "source": [
        "logreg.fit(X_train_subset, y_train_subset.values.ravel())\n",
        "\n",
        "# Create an output for our predictions\n",
        "logreg_y_pred = (logreg.predict_proba(X_test)[:,1]>0.5)\n",
        "\n",
        "# Create our confusion matrix\n",
        "logreg_conf_matrix = confusion_matrix(y_test, logreg_y_pred)"
      ],
      "id": "bb7cfcd1",
      "execution_count": null,
      "outputs": []
    },
    {
      "cell_type": "code",
      "metadata": {
        "id": "05ff2473"
      },
      "source": [
        "def heatmap(matrix,title,size=(8,6)):\n",
        "    \"\"\"\n",
        "    Function to create a heatmap chart of a confusion matrix.\n",
        "    - Matrix is the confusion matrix to be represented\n",
        "    - Title (string) is the title of the graph\n",
        "    - Size (tuple) is the size of the chart, set at 6x4 as default\n",
        "    - Returns a heatmap chart\n",
        "    \"\"\"\n",
        "\n",
        "    # Setting the axis labels:\n",
        "    xticks = yticks = ['Fully Paid', 'Charged Off']\n",
        "\n",
        "    # Setting the heatmap labels:\n",
        "    annot=matrix\n",
        "    \"\"\"\n",
        "    If True, write the data value in each cell. If an array-like with the same shape as data, then use this\n",
        "    to annotate the heatmap instead of the data. Note that DataFrames will match on position, not index.\n",
        "    \"\"\"\n",
        "\n",
        "    # Set the font options:\n",
        "    font = FontProperties(size=16)\n",
        "    font.set_style('italic')\n",
        "\n",
        "    #Build the chart\n",
        "    plt.rcParams['figure.figsize'] = size\n",
        "    fig = sns.heatmap(matrix,annot=annot,cmap='rainbow', linewidths=1, linecolor='white',\n",
        "                      xticklabels=xticks, yticklabels=yticks, fmt=\",\", annot_kws={\"size\":14},\n",
        "                      cbar_kws={'label': '\\nNumber of applications'})\n",
        "    fig.figure.axes[-1].yaxis.label.set_size(14)\n",
        "\n",
        "    # Setting the font size for the colorbar\n",
        "    cbar = fig.collections[0].colorbar\n",
        "    cbar.ax.tick_params(labelsize=14)\n",
        "\n",
        "    # X-axis and tick marks labels\n",
        "    fig.set_xlabel('Predicted condition', fontproperties=font)\n",
        "    plt.xticks(fontsize=14)\n",
        "\n",
        "    # y-axis and tick marks label\n",
        "    fig.set_ylabel('True condition', horizontalalignment='center', fontproperties=font)\n",
        "    plt.yticks(fontsize=14, verticalalignment='center')\n",
        "\n",
        "    # Title settings\n",
        "    fig.set_title(title+\"\\n\", fontsize=20, fontweight=\"bold\");\n",
        "\n",
        "    return fig"
      ],
      "id": "05ff2473",
      "execution_count": null,
      "outputs": []
    },
    {
      "cell_type": "code",
      "metadata": {
        "id": "40d458ff"
      },
      "source": [
        "heatmap(logreg_conf_matrix,'Logistic regression performance');"
      ],
      "id": "40d458ff",
      "execution_count": null,
      "outputs": []
    },
    {
      "cell_type": "code",
      "metadata": {
        "id": "dc5575f6"
      },
      "source": [
        "logreg_precision, logreg_recall, logreg_F1_score, logreg_approval_rate = matrix_stats(logreg_conf_matrix)"
      ],
      "id": "dc5575f6",
      "execution_count": null,
      "outputs": []
    },
    {
      "cell_type": "code",
      "metadata": {
        "id": "a7db6d5c"
      },
      "source": [
        "neighbours = 3\n",
        "def KNN_model_build(neighbours, X_train_subset, y_train_subset, X_test, y_test):\n",
        "    \"\"\"\n",
        "    Function to build the KNN model\n",
        "    - neighbours (int): K, the number of near-neighbours for the model\n",
        "    - X_train_subset (df): the training set\n",
        "    - y_train_subset (df): the training dependent variable\n",
        "    - X_test (df): test set\n",
        "    - y_test: dependent variable\n",
        "    - returns: confusion matrix, the predicted variable series\n",
        "    \"\"\"\n",
        "\n",
        "    KNN = KNeighborsClassifier(n_neighbors=neighbours)\n",
        "\n",
        "    # Train the model using the training sets\n",
        "    KNN.fit(X_train, y_train)\n",
        "\n",
        "    # Predict output using our model:\n",
        "    KNN_y_pred = (KNN.predict_proba(X_test)[:,1] > 0.5)\n",
        "\n",
        "    # Calculate the confusion matrix:\n",
        "    KNN_conf_matrix = confusion_matrix(y_test, KNN_y_pred)\n",
        "\n",
        "    return KNN_conf_matrix, KNN_y_pred\n",
        "KNN_conf_matrix, KNN_y_pred = KNN_model_build(neighbours, X_train, y_train, X_test, y_test)\n",
        "heatmap(KNN_conf_matrix,'KNN performance');"
      ],
      "id": "a7db6d5c",
      "execution_count": null,
      "outputs": []
    },
    {
      "cell_type": "code",
      "metadata": {
        "id": "d4f1f0bf"
      },
      "source": [
        "undersample = False\n",
        "target_FP_proportion = 0.5\n",
        "# Changing the training subset to the desired proportion of Fully Paid loans\n",
        "if undersample:\n",
        "    # Creating a new dataframe with only the fully paid loans:\n",
        "    loans_train_FP = loans_train[loans_train['charge_off_rate'] == 0]\n",
        "\n",
        "    # Creating a new dataframe with only the charged off loans:\n",
        "    loans_train_CO = loans_train[loans_train['charge_off_rate'] == 1]\n",
        "\n",
        "    # Creating a function to remove the requisite proportion of these at random\n",
        "    target_FP = int(len(loans_train_CO) * target_FP_proportion / (1 - target_FP_proportion))\n",
        "    remove_n = len(loans_train_FP) - target_FP\n",
        "    drop_indices = np.random.choice(loans_train_FP.index, remove_n, replace=False)\n",
        "    loans_FP_subset = loans_train_FP.drop(drop_indices)\n",
        "\n",
        "    # Combining the two dataframes to create a new loans loans_train\n",
        "    loans_train_subset = loans_FP_subset.append(loans_train_CO, ignore_index=True)\n",
        "\n",
        "else:\n",
        "    loans_train_subset = loans_train\n",
        "\n",
        "# Redefining our test variables:\n",
        "X_train_subset = loans_train_subset[temp_cal_x]\n",
        "y_train_subset = loans_train_subset[temp_cal_y]\n",
        "\n",
        "# Checking our new charge off rate\n",
        "charge_off_rate_train_subset = loans_train_subset['charge_off_rate'].value_counts(normalize=True,dropna=False)\n",
        "print(\"Fully paid proportion of training set is: \"+str(round(charge_off_rate_train_subset[0]*100,1))+\"%\")"
      ],
      "id": "d4f1f0bf",
      "execution_count": null,
      "outputs": []
    },
    {
      "cell_type": "code",
      "metadata": {
        "id": "IZEonZ6a7L_b"
      },
      "source": [],
      "id": "IZEonZ6a7L_b",
      "execution_count": null,
      "outputs": []
    },
    {
      "cell_type": "code",
      "metadata": {
        "id": "909eef17"
      },
      "source": [
        "clf = LogisticRegression(random_state=0 ).fit(tempdata,  Y_train)\n",
        "y_pred = clf.predict(tempdata2)\n",
        "cm = confusion_matrix(Y_test, y_pred)\n",
        "print(cm)\n",
        "print( )"
      ],
      "id": "909eef17",
      "execution_count": null,
      "outputs": []
    },
    {
      "cell_type": "code",
      "metadata": {
        "id": "9qvbr7Exk2HX"
      },
      "source": [
        "Y_test.value_counts()"
      ],
      "id": "9qvbr7Exk2HX",
      "execution_count": null,
      "outputs": []
    },
    {
      "cell_type": "code",
      "metadata": {
        "scrolled": true,
        "id": "0fd421d4"
      },
      "source": [
        "logreg_precision, logreg_recall, logreg_F1_score, logreg_approval_rate = matrix_stats(cm)"
      ],
      "id": "0fd421d4",
      "execution_count": null,
      "outputs": []
    },
    {
      "cell_type": "code",
      "metadata": {
        "id": "WJjKJhIN_Ffd"
      },
      "source": [],
      "id": "WJjKJhIN_Ffd",
      "execution_count": null,
      "outputs": []
    },
    {
      "cell_type": "code",
      "metadata": {
        "id": "9ZbNihFxgiN0"
      },
      "source": [
        "from sklearn.decomposition import PCA"
      ],
      "id": "9ZbNihFxgiN0",
      "execution_count": null,
      "outputs": []
    },
    {
      "cell_type": "code",
      "metadata": {
        "id": "Mlm9iRO5gQOS"
      },
      "source": [
        "pca = PCA().fit(tempdata)\n",
        "\n",
        "% matplotlib inline\n",
        "import matplotlib.pyplot as plt\n",
        "plt.rcParams[\"figure.figsize\"] = (150,30)\n",
        "\n",
        "fig, ax = plt.subplots()\n",
        "xi = np.arange(1, 34, step=1)\n",
        "y = np.cumsum(pca.explained_variance_ratio_)\n",
        "\n",
        "plt.ylim(0.0,1.1)\n",
        "plt.plot(xi, y, marker='o', linestyle='--', color='b')\n",
        "\n",
        "plt.xlabel('Number of Components')\n",
        "plt.xticks(np.arange(0, 34, step=2)) #change from 0-based array index to 1-based human-readable label\n",
        "plt.ylabel('Cumulative variance (%)')\n",
        "plt.title('The number of components needed to explain variance')\n",
        "\n",
        "plt.axhline(y=0.99, color='r', linestyle='-')\n",
        "plt.text(0.5, 0.85, '99% cut-off threshold', color = 'red', fontsize=16)\n",
        "\n",
        "ax.grid(axis='x')\n",
        "plt.show()"
      ],
      "id": "Mlm9iRO5gQOS",
      "execution_count": null,
      "outputs": []
    },
    {
      "cell_type": "code",
      "metadata": {
        "id": "da6qTNAtB5pq"
      },
      "source": [
        "np.cumsum(pca.explained_variance_ratio_)"
      ],
      "id": "da6qTNAtB5pq",
      "execution_count": null,
      "outputs": []
    },
    {
      "cell_type": "code",
      "metadata": {
        "id": "aa9iz-mCnb7t"
      },
      "source": [
        "plt.plot(pca.explained_variance_ratio_)"
      ],
      "id": "aa9iz-mCnb7t",
      "execution_count": null,
      "outputs": []
    },
    {
      "cell_type": "code",
      "metadata": {
        "id": "a2rfOYCMoX2A"
      },
      "source": [
        "from sklearn import model_selection\n",
        "from sklearn.model_selection import StratifiedKFold\n",
        "from sklearn.linear_model import LogisticRegression\n",
        "from sklearn.model_selection import KFold"
      ],
      "id": "a2rfOYCMoX2A",
      "execution_count": null,
      "outputs": []
    },
    {
      "cell_type": "code",
      "metadata": {
        "id": "rImRSdaNmB0i"
      },
      "source": [],
      "id": "rImRSdaNmB0i",
      "execution_count": null,
      "outputs": []
    },
    {
      "cell_type": "code",
      "metadata": {
        "id": "r9gspbmapO5N"
      },
      "source": [
        "compdata = pd.concat([tempdata,tempdata2] )\n",
        "compy = pd.concat( [Y_train, Y_test])"
      ],
      "id": "r9gspbmapO5N",
      "execution_count": null,
      "outputs": []
    },
    {
      "cell_type": "code",
      "metadata": {
        "id": "9-IqMW69CuX8"
      },
      "source": [
        "from sklearn.naive_bayes import GaussianNB\n",
        "from sklearn.linear_model import LogisticRegression\n",
        "from sklearn.model_selection import KFold , cross_val_score\n",
        "from sklearn.model_selection import LeaveOneOut\n",
        "from sklearn.model_selection import LeavePOut\n",
        "from sklearn.model_selection import ShuffleSplit\n",
        "from sklearn.model_selection import StratifiedKFold\n"
      ],
      "id": "9-IqMW69CuX8",
      "execution_count": null,
      "outputs": []
    },
    {
      "cell_type": "code",
      "metadata": {
        "id": "28tyC2bNoNuU"
      },
      "source": [
        "skfold = StratifiedKFold(n_splits=8)\n",
        "model_skfold = GaussianNB()\n",
        "results_skfold = cross_val_score(model_skfold, compdata, compy, cv=skfold)\n",
        "print(\"Accuracy: %.2f%%\" % (results_skfold.mean()*100.0))"
      ],
      "id": "28tyC2bNoNuU",
      "execution_count": null,
      "outputs": []
    },
    {
      "cell_type": "code",
      "metadata": {
        "id": "ijulw0lIqDFn"
      },
      "source": [
        "skfold = StratifiedKFold(n_splits=8)\n",
        "model_skfold = XGBClassifier()\n",
        "results_skfold = cross_val_score(model_skfold, compdata, compy, cv=skfold)\n",
        "print(\"Accuracy: %.2f%%\" % (results_skfold.mean()*100.0))"
      ],
      "id": "ijulw0lIqDFn",
      "execution_count": null,
      "outputs": []
    },
    {
      "cell_type": "code",
      "metadata": {
        "id": "ABOcC5r8qGYr"
      },
      "source": [
        "loocv = model_selection.LeaveOneOut()\n",
        "model_loocv = LogisticRegression()\n",
        "results_loocv = model_selection.cross_val_score(model_loocv, compdata, compy, cv=loocv)\n",
        "print(\"Accuracy: %.2f%%\" % (results_loocv.mean()*100.0))"
      ],
      "id": "ABOcC5r8qGYr",
      "execution_count": null,
      "outputs": []
    },
    {
      "cell_type": "code",
      "metadata": {
        "id": "vZ2hrVBEIxME"
      },
      "source": [
        "from sklearn import  metrics"
      ],
      "id": "vZ2hrVBEIxME",
      "execution_count": null,
      "outputs": []
    },
    {
      "cell_type": "code",
      "metadata": {
        "id": "Mofaa9l44DUf"
      },
      "source": [
        "from sklearn.linear_model import LogisticRegressionCV"
      ],
      "id": "Mofaa9l44DUf",
      "execution_count": null,
      "outputs": []
    },
    {
      "cell_type": "code",
      "metadata": {
        "id": "RyoMC8pTqqhX"
      },
      "source": [
        "\n",
        "\n",
        "arro = []\n",
        "for i in range(3, 12):\n",
        "  clf = LogisticRegressionCV(cv=i, random_state=0).fit(tempdata, Y_train)\n",
        "  print(i)\n",
        "\n",
        "  cm  = metrics.confusion_matrix(Y_test, clf.predict(tempdata2))\n",
        "  logreg_precision, logreg_recall, logreg_F1_score, logreg_approval_rate = matrix_stats(cm)\n",
        "  arro.append(cm)\n",
        "  print(logreg_precision, logreg_recall, logreg_F1_score, logreg_approval_rate )\n",
        ""
      ],
      "id": "RyoMC8pTqqhX",
      "execution_count": null,
      "outputs": []
    },
    {
      "cell_type": "code",
      "metadata": {
        "id": "lT4uj0ww7W-B"
      },
      "source": [],
      "id": "lT4uj0ww7W-B",
      "execution_count": null,
      "outputs": []
    },
    {
      "cell_type": "code",
      "metadata": {
        "id": "W9AesLTKmG3I"
      },
      "source": [
        "clf = LogisticRegressionCV(cv=8, random_state=0).fit(tempdata, Y_train)\n",
        "# cm  = metrics.confusion_matrix(Y_test, clf.predict(tempdata2))\n",
        "# logreg_precision, logreg_recall, logreg_F1_score, logreg_approval_rate = matrix_stats(cm)\n",
        "\n",
        ""
      ],
      "id": "W9AesLTKmG3I",
      "execution_count": null,
      "outputs": []
    },
    {
      "cell_type": "code",
      "metadata": {
        "id": "YK0Cx6Pp8W3m"
      },
      "source": [
        "clf = LogisticRegressionCV(cv=8, random_state=0).fit(tempdata, Y_train)\n",
        "# cm  = metrics.confusion_matrix(Y_test, clf.predict(tempdata2))\n",
        "# logreg_precision, logreg_recall, logreg_F1_score, logreg_approval_rate = matrix_stats(cm)\n",
        "\n",
        ""
      ],
      "id": "YK0Cx6Pp8W3m",
      "execution_count": null,
      "outputs": []
    },
    {
      "cell_type": "code",
      "metadata": {
        "id": "khahb3Vc6YiL"
      },
      "source": [
        "terabaap(clf, tempdata2 , Y_test)\n"
      ],
      "id": "khahb3Vc6YiL",
      "execution_count": null,
      "outputs": []
    },
    {
      "cell_type": "code",
      "metadata": {
        "id": "H4cD11hS7aED"
      },
      "source": [
        "cm  = metrics.confusion_matrix(Y_test, clf.predict(tempdata2))"
      ],
      "id": "H4cD11hS7aED",
      "execution_count": null,
      "outputs": []
    },
    {
      "cell_type": "code",
      "metadata": {
        "id": "fp08DGv66k5Q"
      },
      "source": [
        "heatmap(cm,\"Logistic Regression\" )"
      ],
      "id": "fp08DGv66k5Q",
      "execution_count": null,
      "outputs": []
    },
    {
      "cell_type": "code",
      "metadata": {
        "id": "AxD7qtwyoSkW"
      },
      "source": [],
      "id": "AxD7qtwyoSkW",
      "execution_count": null,
      "outputs": []
    },
    {
      "cell_type": "code",
      "metadata": {
        "id": "Nfdf_n3SYxIP"
      },
      "source": [],
      "id": "Nfdf_n3SYxIP",
      "execution_count": null,
      "outputs": []
    },
    {
      "cell_type": "code",
      "metadata": {
        "id": "-DEoyQh5-kii"
      },
      "source": [
        "u"
      ],
      "id": "-DEoyQh5-kii",
      "execution_count": null,
      "outputs": []
    },
    {
      "cell_type": "code",
      "metadata": {
        "id": "J6jsuE2uY305"
      },
      "source": [
        "n = Y_train.values_counts()\n",
        "class_weights ={0: 1-(n[0]/n.sum()), 1: 1-(n[1]/n.sum())}\n"
      ],
      "id": "J6jsuE2uY305",
      "execution_count": null,
      "outputs": []
    },
    {
      "cell_type": "code",
      "metadata": {
        "id": "JU7cqcfEbzhD"
      },
      "source": [],
      "id": "JU7cqcfEbzhD",
      "execution_count": null,
      "outputs": []
    },
    {
      "cell_type": "code",
      "metadata": {
        "id": "2kaQIRu2P14b"
      },
      "source": [],
      "id": "2kaQIRu2P14b",
      "execution_count": null,
      "outputs": []
    },
    {
      "cell_type": "code",
      "metadata": {
        "id": "CLKawc4QslQJ"
      },
      "source": [
        "clf.predict( )"
      ],
      "id": "CLKawc4QslQJ",
      "execution_count": null,
      "outputs": []
    },
    {
      "cell_type": "code",
      "metadata": {
        "id": "I1Rftf8xsQE6"
      },
      "source": [
        "from sklearn import metrics\n",
        "cm  = metrics.confusion_matrix(Y_test, clf.predict(tempdata2))\n",
        "logreg_precision, logreg_recall, logreg_F1_score, logreg_approval_rate = matrix_stats(cm)\n"
      ],
      "id": "I1Rftf8xsQE6",
      "execution_count": null,
      "outputs": []
    },
    {
      "cell_type": "code",
      "metadata": {
        "id": "teRKueV5uerw"
      },
      "source": [
        "from sklearn.cluster import KMeans\n",
        "kmeans = KMeans(n_clusters=2, random_state=0).fit(compdata)\n",
        "kmeans.cluster_centers_"
      ],
      "id": "teRKueV5uerw",
      "execution_count": null,
      "outputs": []
    },
    {
      "cell_type": "code",
      "metadata": {
        "id": "8FptgDpxxRKj"
      },
      "source": [
        "from sklearn.ensemble import GradientBoostingClassifier\n",
        "clf = GradientBoostingClassifier(n_estimators=100, learning_rate=1.0,max_depth=1, random_state=0).fit(X_train, y_train)\n",
        "clf.score(X_test, y_test)"
      ],
      "id": "8FptgDpxxRKj",
      "execution_count": null,
      "outputs": []
    },
    {
      "cell_type": "code",
      "metadata": {
        "id": "T2vzKr6nsLE5"
      },
      "source": [
        "from xgboost import XGBClassifier\n",
        "from matplotlib import pyplot\n",
        "\n",
        "\n",
        "model = XGBClassifier()\n",
        "model.fit(tempdata, Y_train)\n",
        "# feature importance\n",
        "print(model.feature_importances_)\n",
        "\n"
      ],
      "id": "T2vzKr6nsLE5",
      "execution_count": null,
      "outputs": []
    },
    {
      "cell_type": "code",
      "metadata": {
        "id": "0a6Jqk-ovQRu"
      },
      "source": [
        "\n",
        "def terabaap(model , tempdata2, Y_test):\n",
        "  print( \"Accuracy : \" + str(accuracy_score(model.predict(tempdata2),Y_test)))\n",
        "  print(\"Precision : \" + str(metrics.precision_score(model.predict(tempdata2),Y_test)))\n",
        "  print(\"Recall Score : \" + str(metrics.recall_score( model.predict(tempdata2),Y_test)))\n",
        "  print(\"F1 Score : \" + str(metrics.f1_score(model.predict(tempdata2),Y_test)))\n",
        "\n"
      ],
      "id": "0a6Jqk-ovQRu",
      "execution_count": null,
      "outputs": []
    },
    {
      "cell_type": "code",
      "metadata": {
        "id": "HDSDjT7wzZAV"
      },
      "source": [
        "terabaap(model,tempdata2, Y_test)"
      ],
      "id": "HDSDjT7wzZAV",
      "execution_count": null,
      "outputs": []
    },
    {
      "cell_type": "code",
      "metadata": {
        "id": "1qBzRYDUzU8T"
      },
      "source": [
        "from sklearn.metrics import accuracy_score\n",
        "from sklearn import metrics\n",
        "cm  = metrics.confusion_matrix(Y_test, model.predict(tempdata2))\n",
        "\n",
        "heatmap(cm, \"xyz\")\n"
      ],
      "id": "1qBzRYDUzU8T",
      "execution_count": null,
      "outputs": []
    },
    {
      "cell_type": "code",
      "metadata": {
        "id": "b2OIHLxCx1zt"
      },
      "source": [
        "heatmap(cm, \"XGboost\")"
      ],
      "id": "b2OIHLxCx1zt",
      "execution_count": null,
      "outputs": []
    },
    {
      "cell_type": "code",
      "metadata": {
        "id": "JJDvLaeP8N3i"
      },
      "source": [
        "i"
      ],
      "id": "JJDvLaeP8N3i",
      "execution_count": null,
      "outputs": []
    },
    {
      "cell_type": "code",
      "metadata": {
        "id": "SC37ga7Htmlu"
      },
      "source": [
        "teranaam =[ ]\n",
        "for i in  range( len(model.feature_importances_)):\n",
        "  teranaam.append([model.feature_importances_[i],tempdata.columns[i]])\n",
        "\n",
        "\n",
        "# trr =  sorted(model.feature_importances_)[::-1]\n",
        "# pyplot.bar(range(len(model.feature_importances_)), trr)\n",
        "# pyplot.show()\n",
        "\n",
        "\n",
        "teranaam = sorted(teranaam)[::-1]\n",
        "y =[]\n",
        "x=[]\n",
        "for xx in teranaam:\n",
        "  y.append(xx[0])\n",
        "  x.append(xx[1])\n",
        "plt.barh(x[:12],y[:12])\n",
        "plt.xlabel(\"Relative Importance\")\n",
        "plt.ylabel(\"Column name\")\n",
        "plt.title(\"Feature Importance\")\n"
      ],
      "id": "SC37ga7Htmlu",
      "execution_count": null,
      "outputs": []
    },
    {
      "cell_type": "code",
      "metadata": {
        "id": "uDR6tqme3WLz"
      },
      "source": [
        "from sklearn.naive_bayes import GaussianNB\n",
        "clf = GaussianNB()\n",
        "clf.fit(tempdata, Y_train)"
      ],
      "id": "uDR6tqme3WLz",
      "execution_count": null,
      "outputs": []
    },
    {
      "cell_type": "code",
      "metadata": {
        "id": "wxyfwmiZ-40b"
      },
      "source": [
        "terabaap( clf, tempdata2, Y_test)\n",
        "clf.predict(tempdata2)"
      ],
      "id": "wxyfwmiZ-40b",
      "execution_count": null,
      "outputs": []
    },
    {
      "cell_type": "code",
      "metadata": {
        "id": "Ay5liSisBNoU"
      },
      "source": [
        "from sklearn.preprocessing import MinMaxScaler\n",
        "from sklearn.linear_model import LogisticRegression\n",
        "from sklearn.pipeline import Pipeline\n",
        "\n",
        "sc = MinMaxScaler()\n",
        "clf = LogisticRegression(penalty='l2', C=0.01)\n",
        "\n",
        "pipe_lr = Pipeline([('scaler', sc), ('clf', clf)])"
      ],
      "id": "Ay5liSisBNoU",
      "execution_count": null,
      "outputs": []
    },
    {
      "cell_type": "code",
      "metadata": {
        "id": "usZlNnJYCKoj"
      },
      "source": [
        "pipe_lr.fit(tempdata, Y_train)"
      ],
      "id": "usZlNnJYCKoj",
      "execution_count": null,
      "outputs": []
    },
    {
      "cell_type": "code",
      "metadata": {
        "id": "9wRm95XAFnH-"
      },
      "source": [
        "y_score = pipe_lr.predict_proba(tempdata2)[:,1]\n",
        "from sklearn.metrics import roc_auc_score, roc_curve,precision_score, recall_score, precision_recall_curve\n",
        "fpr, tpr, tresholds = roc_curve(Y_test, y_score)\n",
        "plt.plot(fpr, tpr)\n",
        "plt.title('ROC')\n",
        "plt.xlabel('FPR')\n",
        "plt.ylabel('TPR')\n",
        "\n",
        "print('ROC-AUC-score: ', roc_auc_score(Y_test, y_score))"
      ],
      "id": "9wRm95XAFnH-",
      "execution_count": null,
      "outputs": []
    },
    {
      "cell_type": "code",
      "metadata": {
        "id": "J6TkXaOiGP46"
      },
      "source": [
        "terabaap(pipe_lr, tempdata2, Y_test )\n",
        "s"
      ],
      "id": "J6TkXaOiGP46",
      "execution_count": null,
      "outputs": []
    },
    {
      "cell_type": "code",
      "metadata": {
        "id": "e-CnxeIIC1QK"
      },
      "source": [
        "rt = copy.deepcopy(loans)"
      ],
      "id": "e-CnxeIIC1QK",
      "execution_count": null,
      "outputs": []
    },
    {
      "cell_type": "code",
      "metadata": {
        "id": "xyN2bmKH8AZj"
      },
      "source": [],
      "id": "xyN2bmKH8AZj",
      "execution_count": null,
      "outputs": []
    },
    {
      "cell_type": "code",
      "metadata": {
        "id": "fij_OV8X-H84"
      },
      "source": [],
      "id": "fij_OV8X-H84",
      "execution_count": null,
      "outputs": []
    },
    {
      "cell_type": "code",
      "metadata": {
        "id": "gnBKJUiJAQ65"
      },
      "source": [
        "from sklearn import metrics"
      ],
      "id": "gnBKJUiJAQ65",
      "execution_count": null,
      "outputs": []
    },
    {
      "cell_type": "code",
      "metadata": {
        "id": "1OAdXpi6BTi1"
      },
      "source": [
        "from sklearn.ensemble import RandomForestClassifier"
      ],
      "id": "1OAdXpi6BTi1",
      "execution_count": null,
      "outputs": []
    },
    {
      "cell_type": "code",
      "metadata": {
        "id": "USG5plMrFx4Y"
      },
      "source": [
        "def terabaap(model , tempdata2, Y_test):\n",
        "  print( \"Accuracy : \" + str(accuracy_score(model.predict(tempdata2),Y_test)))\n",
        "  print(\"Precision : \" + str(metrics.precision_score(model.predict(tempdata2),Y_test)))\n",
        "  print(\"Recall Score : \" + str(metrics.recall_score( model.predict(tempdata2),Y_test)))\n",
        "  print(\"F1 Score : \" + str(metrics.f1_score(model.predict(tempdata2),Y_test)))"
      ],
      "id": "USG5plMrFx4Y",
      "execution_count": null,
      "outputs": []
    },
    {
      "cell_type": "code",
      "metadata": {
        "id": "sHS4EBU0DArE"
      },
      "source": [
        "df_orig = rt"
      ],
      "id": "sHS4EBU0DArE",
      "execution_count": null,
      "outputs": []
    },
    {
      "cell_type": "code",
      "metadata": {
        "id": "_WHBJzgwDKrt"
      },
      "source": [
        "business_data_orig=df_orig[df_orig['loan_status'] == 'Current']\n",
        "business_data = df_orig[df_orig['loan_status'] == 'Current']\n",
        "business_data['emp_length_num'] = business_data['emp_length'].apply(emp_to_num)\n",
        "business_data['long_emp'] = business_data['emp_length'].apply(lambda x: 1*(x=='10+ years'))\n",
        "business_data['short_emp'] = business_data['emp_length'].apply(lambda x: 1*(x=='1 year' or x=='< 1 year'))\n",
        "# print(business_data.shape[0])\n",
        "business_data = business_data[business_data['annual_inc']>0]\n",
        "# print(business_data.shape[0])\n",
        "business_data['annual_inc_log'] = business_data['annual_inc'].apply(np.log)\n",
        "columns = ['loan_amnt', 'term', 'int_rate',\n",
        "       'installment', 'grade', 'emp_length',\n",
        "       'home_ownership', 'annual_inc_log', 'verification_status','purpose',\n",
        "       'addr_state', 'dti', 'delinq_2yrs',\n",
        "       'fico_range_low', 'inq_last_6mths', 'open_acc',\n",
        "       'pub_rec', 'revol_bal', 'revol_util', 'total_acc','funded_amnt']\n",
        "business_data = business_data[columns]\n",
        "business_data.dropna(inplace=True)\n",
        "business_data['grade']=business_data['grade'].map({'A': 1, 'B': 2, 'C': 3, 'D': 4, 'E': 5, 'F': 6, 'G': 7})\n",
        "business_data_dummies = pd.get_dummies(business_data)\n",
        "drop_columns = business_data_dummies.columns[(business_data_dummies.mean()<0.01)]\n",
        "business_data_dummies.drop(drop_columns, axis=1, inplace=True)\n",
        "business_data_dummies['annual_inc_log'] = business_data['annual_inc_log']\n",
        "business_data_dummies['verification_status_Verified_sum'] = business_data_dummies['verification_status_Source Verified']+business_data_dummies['verification_status_Verified']\n",
        "business_data_dummies.drop(['verification_status_Source Verified', 'verification_status_Verified'], axis=1, inplace=True)\n",
        "business_data_dummies.drop(['funded_amnt'],axis=1, inplace=True)\n",
        "# print(len(business_data_dummies.columns))\n",
        "# business_data_dummies['annual_inc_log'].min()"
      ],
      "id": "_WHBJzgwDKrt",
      "execution_count": null,
      "outputs": []
    }
  ]
}